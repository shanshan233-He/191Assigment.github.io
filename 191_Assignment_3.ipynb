{
  "nbformat": 4,
  "nbformat_minor": 0,
  "metadata": {
    "colab": {
      "provenance": [],
      "collapsed_sections": [
        "rF9Ip-P1w2Ag"
      ]
    },
    "kernelspec": {
      "name": "python3",
      "display_name": "Python 3"
    },
    "language_info": {
      "name": "python"
    }
  },
  "cells": [
    {
      "cell_type": "markdown",
      "source": [
        "# Price Index of iPhone 16 globally with reasons of markup %\n",
        "## Team members\n",
        "\n",
        "| Members       | ccid |\n",
        "|--------------|---------------------------------------------------------------|\n",
        "|Shivaansh bhatia| shivaans|\n",
        "| ShanShan He|shansha9|"
      ],
      "metadata": {
        "id": "rkNRv2lNbePP"
      }
    },
    {
      "cell_type": "markdown",
      "source": [
        "# Importing the Libraries"
      ],
      "metadata": {
        "id": "BVoRye2yOQ4q"
      }
    },
    {
      "cell_type": "code",
      "execution_count": null,
      "metadata": {
        "id": "31O7QZNeGUAh"
      },
      "outputs": [],
      "source": [
        "from datascience import *\n",
        "\n",
        "import json\n",
        "\n",
        "import requests\n",
        "\n",
        "import numpy as np\n",
        "import pandas as pd\n",
        "\n",
        "from bs4 import BeautifulSoup\n",
        "\n",
        "from IPython.core.display import display, HTML\n",
        "\n",
        "%matplotlib inline\n",
        "import matplotlib.pyplot as plt\n",
        "plt.style.use('fivethirtyeight')"
      ]
    },
    {
      "cell_type": "markdown",
      "source": [
        "# Applying the iphone price table within different countries"
      ],
      "metadata": {
        "id": "rF9Ip-P1w2Ag"
      }
    },
    {
      "cell_type": "markdown",
      "source": [
        "#### Fetching Web Page Content:\n",
        "\n",
        "We use webscraping to fetch the table of iphone 16 prices in different countries using Beautiful Soap library and then extracting the table and converting to dataframe and finally converting into a datascience library Table\n"
      ],
      "metadata": {
        "id": "49XZCUZiyntj"
      }
    },
    {
      "cell_type": "code",
      "source": [
        "url ='https://www.jagranjosh.com/general-knowledge/which-countries-sells-iphones-cheaper-than-india-1698415980-1'\n",
        "r = requests.get(url)\n",
        "r.text\n",
        "soup = BeautifulSoup(r.text, 'html.parser')\n",
        "soup.title"
      ],
      "metadata": {
        "colab": {
          "base_uri": "https://localhost:8080/"
        },
        "id": "CvCXkpC1-x_e",
        "outputId": "05823f93-ec9f-496a-c0ff-9949e4e7e881"
      },
      "execution_count": null,
      "outputs": [
        {
          "output_type": "execute_result",
          "data": {
            "text/plain": [
              "<title>10 Countries Where iPhone 16 is Cheaper Than India </title>"
            ]
          },
          "metadata": {},
          "execution_count": 52
        }
      ]
    },
    {
      "cell_type": "markdown",
      "source": [
        "#### Extracting the first HTML table"
      ],
      "metadata": {
        "id": "Deb6t3Ccy4k6"
      }
    },
    {
      "cell_type": "code",
      "source": [
        "table = soup.find_all('table')[0]"
      ],
      "metadata": {
        "collapsed": true,
        "id": "Dn5_h03RBTE9"
      },
      "execution_count": null,
      "outputs": []
    },
    {
      "cell_type": "markdown",
      "source": [
        "#### Displaying the HTML table with display_table functon"
      ],
      "metadata": {
        "id": "pmGukSolzFxn"
      }
    },
    {
      "cell_type": "code",
      "source": [
        "def display_table(table):\n",
        "  display(HTML(str(table)))"
      ],
      "metadata": {
        "id": "b7odLQHHLK7f"
      },
      "execution_count": null,
      "outputs": []
    },
    {
      "cell_type": "code",
      "source": [
        "display_table(table)"
      ],
      "metadata": {
        "colab": {
          "base_uri": "https://localhost:8080/"
        },
        "id": "tLAciS_PLSZj",
        "outputId": "1faea583-583f-48db-81ca-453a9658e405"
      },
      "execution_count": null,
      "outputs": [
        {
          "output_type": "display_data",
          "data": {
            "text/plain": [
              "<IPython.core.display.HTML object>"
            ],
            "text/html": [
              "<table> <tbody> <tr> <td> <div><strong>Country</strong></div> </td> <td> <div><strong>iPhone 16</strong></div> </td> <td> <div><strong>iPhone 16 Plus</strong></div> </td> <td> <div><strong>iPhone 16 Pro</strong></div> </td> <td> <div><strong>iPhone 16 Pro Max</strong></div> </td> </tr> <tr> <td> <div><span>India</span></div> </td> <td> <div><span>Rs 79,900</span></div> </td> <td> <div><span>Rs 89,900</span></div> </td> <td> <div><span>Rs 1,19,900</span></div> </td> <td> <div><span>Rs 1,44,900</span></div> </td> </tr> <tr> <td> <div><strong>US</strong></div> </td> <td> <div><strong>$799</strong></div> </td> <td> <div><strong>$899</strong></div> </td> <td> <div><strong>$999</strong></div> </td> <td> <div><strong>$1,199</strong></div> </td> </tr> <tr> <td> <div><span>Converted to INR</span></div> </td> <td> <div><span>Rs 67,076</span></div> </td> <td> <div><span>Rs 75,471</span></div> </td> <td> <div><span>Rs 83,866</span></div> </td> <td> <div><span>Rs 1,00,657</span></div> </td> </tr> <tr> <td> <div><strong>UK</strong></div> </td> <td> <div><strong>£799</strong></div> </td> <td> <div><strong>£899</strong></div> </td> <td> <div><strong>£999</strong></div> </td> <td> <div><strong>£1,199</strong></div> </td> </tr> <tr> <td> <div><span>Converted to INR</span></div> </td> <td> <div><span>Rs 74,100</span></div> </td> <td> <div><span>Rs 83,374</span></div> </td> <td> <div><span>Rs 92,648</span></div> </td> <td> <div><span>Rs 1,11,196</span></div> </td> </tr> <tr> <td> <div><strong>Dubai (UAE)</strong></div> </td> <td> <div><strong>AED 3,399</strong></div> </td> <td> <div><strong>AED 3,799</strong></div> </td> <td> <div><strong>AED 4,299</strong></div> </td> <td> <div><strong>AED 5,099</strong></div> </td> </tr> <tr> <td> <div><span>Converted to INR</span></div> </td> <td> <div><span>Rs 77,698</span></div> </td> <td> <div><span>Rs 86,842</span></div> </td> <td> <div><span>Rs 98,272</span></div> </td> <td> <div><span>Rs 1,16,559</span></div> </td> </tr> <tr> <td> <div><strong>China Mainland</strong></div> </td> <td> <div><strong>RMB 5,999</strong></div> </td> <td> <div><strong>RMB 6,999</strong></div> </td> <td> <div><strong>RMB 7,999</strong></div> </td> <td> <div><strong>RMB 9,999</strong></div> </td> </tr> <tr> <td> <div><span>Converted to INR</span></div> </td> <td> <div><span>Rs 70,836</span></div> </td> <td> <div><span>Rs 82,645</span></div> </td> <td> <div><span>Rs 94,453</span></div> </td> <td> <div><span>Rs 1,1,8070</span></div> </td> </tr> <tr> <td> <div><strong>Hong Kong</strong></div> </td> <td> <div><strong>HK$ 6,899</strong></div> </td> <td> <div><strong>HK$ 7,699</strong></div> </td> <td> <div><strong>HK$ 8,599</strong></div> </td> <td> <div><strong>HK$ 10,199</strong></div> </td> </tr> <tr> <td> <div><span>Converted to INR</span></div> </td> <td> <div><span>Rs 74,274</span></div> </td> <td> <div><span>Rs 82,887</span></div> </td> <td> <div><span>Rs 92,577</span></div> </td> <td> <div><span>Rs 1,09,802</span></div> </td> </tr> <tr> <td> <div><strong>Vietnam</strong></div> </td> <td> <div><strong>VND 22,999,000</strong></div> </td> <td> <div><strong>VND 25,999,000</strong></div> </td> <td> <div><strong>VND 28,999,000</strong></div> </td> <td> <div><strong>VND 34,999,000</strong></div> </td> </tr> <tr> <td> <div><span>Converted to INR</span></div> </td> <td> <div><span>Rs 78,639</span></div> </td> <td> <div><span>Rs 88,896</span></div> </td> <td> <div><span>Rs 99,154</span></div> </td> <td> <div><span>Rs 1,19,670</span></div> </td> </tr> <tr> <td> <div><strong>Thailand</strong></div> </td> <td> <div><strong>฿ 29,900</strong></div> </td> <td> <div><strong>฿ 34,900</strong></div> </td> <td> <div><strong>฿ 39,900</strong></div> </td> <td> <div><strong>฿ 48,900</strong></div> </td> </tr> <tr> <td> <div><span>Converted to INR</span></div> </td> <td> <div><span>Rs 74,649</span></div> </td> <td> <div><span>Rs 87,132</span></div> </td> <td> <div><span>Rs 99,615</span></div> </td> <td> <div><span>Rs 1,22,084</span></div> </td> </tr> <tr> <td> <div><strong>Japan</strong></div> </td> <td> <div><strong>124,800 Yen</strong></div> </td> <td> <div><strong>139,800 Yen</strong></div> </td> <td> <div><strong>159,800 Yen</strong></div> </td> <td> <div><strong>189,800 Yen</strong></div> </td> </tr> <tr> <td> <div><span>Converted to INR</span></div> </td> <td> <div><span>Rs 74,277</span></div> </td> <td> <div><span>Rs 83,205</span></div> </td> <td> <div><span>Rs 95,109</span></div> </td> <td> <div><span>Rs 1,12,964</span></div> </td> </tr> <tr> <td> <div><strong>Australia</strong></div> </td> <td> <div><strong>A$1,399</strong></div> </td> <td> <div><strong>A$1,599</strong></div> </td> <td> <div><strong>A$1,799</strong></div> </td> <td> <div><strong>A$2,149</strong></div> </td> </tr> <tr> <td> <div><span>Converted to INR</span></div> </td> <td> <div><span>Rs 78,148</span></div> </td> <td> <div><span>Rs 89,320</span></div> </td> <td> <div><span>Rs 1,00,492</span></div> </td> <td> <div><span>Rs 1,20,043</span></div> </td> </tr> <tr> <td> <div><strong>Canada</strong></div> </td> <td> <div><strong> $1,129</strong></div> </td> <td> <div><strong> $1,279</strong></div> </td> <td> <div><strong> $1,449</strong></div> </td> <td> <div><strong>$1,749</strong></div> </td> </tr> <tr> <td> <div><span>Converted to INR</span></div> </td> <td> <div><span>Rs 69,704</span></div> </td> <td> <div><span>Rs 78,965</span></div> </td> <td> <div><span>Rs 89,460</span></div> </td> <td> <div><span>Rs 1,07,982</span></div> </td> </tr> </tbody> </table>"
            ]
          },
          "metadata": {}
        }
      ]
    },
    {
      "cell_type": "markdown",
      "source": [
        "#### Displaying with the defined scape_table function as to return a table object from the Data frame"
      ],
      "metadata": {
        "id": "ip-_c8KuzmNu"
      }
    },
    {
      "cell_type": "code",
      "source": [
        "def scrape_table(table):\n",
        "    df = pd.read_html(str(table)) #return as list\n",
        "    df = pd.DataFrame(df[0]) #return as a Pandas DataFrame\n",
        "    if df.columns[0]==0:\n",
        "      df.columns = df.iloc[0] #using first row as the heading instead of default headings\n",
        "    return Table.from_df(df) #return as a table"
      ],
      "metadata": {
        "id": "KSZkpLhrB7DX"
      },
      "execution_count": null,
      "outputs": []
    },
    {
      "cell_type": "code",
      "source": [
        "iphone = scrape_table(table)\n",
        "iphone.show(3)"
      ],
      "metadata": {
        "colab": {
          "base_uri": "https://localhost:8080/"
        },
        "collapsed": true,
        "id": "RcXQqE8aB9Y5",
        "outputId": "25a29f00-069f-42ea-e0d4-b84531d747e5"
      },
      "execution_count": null,
      "outputs": [
        {
          "output_type": "stream",
          "name": "stderr",
          "text": [
            "<ipython-input-56-adaf5c078b53>:2: FutureWarning: Passing literal html to 'read_html' is deprecated and will be removed in a future version. To read from a literal string, wrap it in a 'StringIO' object.\n",
            "  df = pd.read_html(str(table)) #return as list\n"
          ]
        },
        {
          "output_type": "display_data",
          "data": {
            "text/plain": [
              "<IPython.core.display.HTML object>"
            ],
            "text/html": [
              "<table border=\"1\" class=\"dataframe\">\n",
              "    <thead>\n",
              "        <tr>\n",
              "            <th>Country</th> <th>iPhone 16</th> <th>iPhone 16 Plus</th> <th>iPhone 16 Pro</th> <th>iPhone 16 Pro Max</th>\n",
              "        </tr>\n",
              "    </thead>\n",
              "    <tbody>\n",
              "        <tr>\n",
              "            <td>Country</td> <td>iPhone 16</td> <td>iPhone 16 Plus</td> <td>iPhone 16 Pro</td> <td>iPhone 16 Pro Max</td>\n",
              "        </tr>\n",
              "        <tr>\n",
              "            <td>India  </td> <td>Rs 79,900</td> <td>Rs 89,900     </td> <td>Rs 1,19,900  </td> <td>Rs 1,44,900      </td>\n",
              "        </tr>\n",
              "        <tr>\n",
              "            <td>US     </td> <td>$799     </td> <td>$899          </td> <td>$999         </td> <td>$1,199           </td>\n",
              "        </tr>\n",
              "    </tbody>\n",
              "</table>\n",
              "<p>... (19 rows omitted)</p>"
            ]
          },
          "metadata": {}
        }
      ]
    },
    {
      "cell_type": "markdown",
      "source": [
        "## Cleaning Data from Iphone table"
      ],
      "metadata": {
        "id": "PG-FkEwz0aMY"
      }
    },
    {
      "cell_type": "markdown",
      "source": [
        "###Return a table with only price with local currency\n",
        "\n"
      ],
      "metadata": {
        "id": "XbZbHPqHxyyw"
      }
    },
    {
      "cell_type": "markdown",
      "source": [
        "####Removing the first repetitive first row and the rows with 'Converted to INR'"
      ],
      "metadata": {
        "id": "1IgjZALx1lf9"
      }
    },
    {
      "cell_type": "code",
      "source": [
        "#removing the repitive heading row\n",
        "iphone=iphone.remove(0)\n",
        "\n",
        "#removing all the rows with conversions to INR\n",
        "iphone=iphone.where(\"Country\",are.not_containing(\"Converted\"))\n",
        "iphone.show(3)"
      ],
      "metadata": {
        "colab": {
          "base_uri": "https://localhost:8080/"
        },
        "id": "VdiR7iSfKoe-",
        "outputId": "21093572-8801-44d3-e64f-3350b923a250"
      },
      "execution_count": null,
      "outputs": [
        {
          "output_type": "display_data",
          "data": {
            "text/plain": [
              "<IPython.core.display.HTML object>"
            ],
            "text/html": [
              "<table border=\"1\" class=\"dataframe\">\n",
              "    <thead>\n",
              "        <tr>\n",
              "            <th>Country</th> <th>iPhone 16</th> <th>iPhone 16 Plus</th> <th>iPhone 16 Pro</th> <th>iPhone 16 Pro Max</th>\n",
              "        </tr>\n",
              "    </thead>\n",
              "    <tbody>\n",
              "        <tr>\n",
              "            <td>India  </td> <td>Rs 79,900</td> <td>Rs 89,900     </td> <td>Rs 1,19,900  </td> <td>Rs 1,44,900      </td>\n",
              "        </tr>\n",
              "        <tr>\n",
              "            <td>US     </td> <td>$799     </td> <td>$899          </td> <td>$999         </td> <td>$1,199           </td>\n",
              "        </tr>\n",
              "        <tr>\n",
              "            <td>UK     </td> <td>£799     </td> <td>£899          </td> <td>£999         </td> <td>£1,199           </td>\n",
              "        </tr>\n",
              "    </tbody>\n",
              "</table>\n",
              "<p>... (8 rows omitted)</p>"
            ]
          },
          "metadata": {}
        }
      ]
    },
    {
      "cell_type": "markdown",
      "source": [
        "####Get_number Fuction : Take only the digit part from column and convert it to a float class for later analysis"
      ],
      "metadata": {
        "id": "51qWRiDq1W4N"
      }
    },
    {
      "cell_type": "code",
      "source": [
        "def get_number(price):\n",
        "  price=str(price)\n",
        "  astr=''\n",
        "  for i in price:\n",
        "    if i.isdigit():\n",
        "      astr+=i\n",
        "  return float(astr)"
      ],
      "metadata": {
        "id": "w2toQnXsQeMa"
      },
      "execution_count": null,
      "outputs": []
    },
    {
      "cell_type": "markdown",
      "source": [
        "####Applying the function to every iphone product"
      ],
      "metadata": {
        "id": "SnRn-3sG1qqM"
      }
    },
    {
      "cell_type": "code",
      "source": [
        "#applying the cleaning function to all the prices\n",
        "for col in iphone.labels[1:]:\n",
        "  temp=iphone.apply(get_number,f'{col}')\n",
        "  iphone=iphone.with_column(f'{col}',temp)\n",
        "\n",
        "iphone.show(3)"
      ],
      "metadata": {
        "colab": {
          "base_uri": "https://localhost:8080/"
        },
        "id": "DXotWqUfRtCR",
        "outputId": "81d2ad55-94b6-4676-ec46-07a72bdd4473"
      },
      "execution_count": null,
      "outputs": [
        {
          "output_type": "display_data",
          "data": {
            "text/plain": [
              "<IPython.core.display.HTML object>"
            ],
            "text/html": [
              "<table border=\"1\" class=\"dataframe\">\n",
              "    <thead>\n",
              "        <tr>\n",
              "            <th>Country</th> <th>iPhone 16</th> <th>iPhone 16 Plus</th> <th>iPhone 16 Pro</th> <th>iPhone 16 Pro Max</th>\n",
              "        </tr>\n",
              "    </thead>\n",
              "    <tbody>\n",
              "        <tr>\n",
              "            <td>India  </td> <td>79900    </td> <td>89900         </td> <td>119900       </td> <td>144900           </td>\n",
              "        </tr>\n",
              "        <tr>\n",
              "            <td>US     </td> <td>799      </td> <td>899           </td> <td>999          </td> <td>1199             </td>\n",
              "        </tr>\n",
              "        <tr>\n",
              "            <td>UK     </td> <td>799      </td> <td>899           </td> <td>999          </td> <td>1199             </td>\n",
              "        </tr>\n",
              "    </tbody>\n",
              "</table>\n",
              "<p>... (8 rows omitted)</p>"
            ]
          },
          "metadata": {}
        }
      ]
    },
    {
      "cell_type": "markdown",
      "source": [
        "####Change_names Function : changeing some of the countries name for easier later analysis"
      ],
      "metadata": {
        "id": "GqWnaJxD2Bjz"
      }
    },
    {
      "cell_type": "code",
      "source": [
        "#changing the required names of Dubai and china mainland\n",
        "def change_names(country):\n",
        "  if country==\"China Mainland\":\n",
        "    return \"China\"\n",
        "  elif country==\"Dubai (UAE)\":\n",
        "    return \"United Arab Emirates\"\n",
        "  elif country==\"US\":\n",
        "    return \"United States\"\n",
        "\n",
        "  else:\n",
        "    return country\n",
        "\n",
        "\n",
        "temp_=iphone.apply(change_names,\"Country\")\n",
        "iphone=iphone.with_column(\"Country\",temp_).sort(\"Country\")\n",
        "iphone.show(3)\n",
        "\n"
      ],
      "metadata": {
        "colab": {
          "base_uri": "https://localhost:8080/"
        },
        "id": "RANobwAZrDqj",
        "outputId": "0f283fc5-433a-4807-c5b5-47072edb33e8"
      },
      "execution_count": null,
      "outputs": [
        {
          "output_type": "display_data",
          "data": {
            "text/plain": [
              "<IPython.core.display.HTML object>"
            ],
            "text/html": [
              "<table border=\"1\" class=\"dataframe\">\n",
              "    <thead>\n",
              "        <tr>\n",
              "            <th>Country</th> <th>iPhone 16</th> <th>iPhone 16 Plus</th> <th>iPhone 16 Pro</th> <th>iPhone 16 Pro Max</th>\n",
              "        </tr>\n",
              "    </thead>\n",
              "    <tbody>\n",
              "        <tr>\n",
              "            <td>Australia</td> <td>1399     </td> <td>1599          </td> <td>1799         </td> <td>2149             </td>\n",
              "        </tr>\n",
              "        <tr>\n",
              "            <td>Canada   </td> <td>1129     </td> <td>1279          </td> <td>1449         </td> <td>1749             </td>\n",
              "        </tr>\n",
              "        <tr>\n",
              "            <td>China    </td> <td>5999     </td> <td>6999          </td> <td>7999         </td> <td>9999             </td>\n",
              "        </tr>\n",
              "    </tbody>\n",
              "</table>\n",
              "<p>... (8 rows omitted)</p>"
            ]
          },
          "metadata": {}
        }
      ]
    },
    {
      "cell_type": "markdown",
      "source": [
        "#Applying exchange rates with respect to Canadian Dollar:"
      ],
      "metadata": {
        "id": "4hxdUKkL20l4"
      }
    },
    {
      "cell_type": "markdown",
      "source": [
        "---\n",
        "### Echange rate API\n",
        "\n",
        "Intstead of using scraping to extract the data for the currency exchanges we have incorporated the use of API for reliability\n",
        "\n",
        "***Attribution notice***<br>\n",
        "https://www.exchangerate-api.com\" Rates By Exchange Rate API\n",
        "\n"
      ],
      "metadata": {
        "id": "78JzuzbfeFpk"
      }
    },
    {
      "cell_type": "markdown",
      "source": [
        "####API request to get the currency exchange rate, storing it in a dictionary"
      ],
      "metadata": {
        "id": "cEcqJnko3ILa"
      }
    },
    {
      "cell_type": "code",
      "source": [
        "#using API to get exchange rates\n",
        "url_rate='https://v6.exchangerate-api.com/v6/d23d6ca1cf6a145239cc2bcc/latest/CAD'\n",
        "response = requests.get(url_rate,verify=False)\n",
        "exchange_data=response.json()\n",
        "print(exchange_data)"
      ],
      "metadata": {
        "colab": {
          "base_uri": "https://localhost:8080/"
        },
        "id": "TULLkaHXLwPF",
        "outputId": "7815e2af-3cf6-4e0c-f398-a977d503ee62"
      },
      "execution_count": null,
      "outputs": [
        {
          "output_type": "stream",
          "name": "stderr",
          "text": [
            "/usr/local/lib/python3.10/dist-packages/urllib3/connectionpool.py:1099: InsecureRequestWarning: Unverified HTTPS request is being made to host 'v6.exchangerate-api.com'. Adding certificate verification is strongly advised. See: https://urllib3.readthedocs.io/en/latest/advanced-usage.html#tls-warnings\n",
            "  warnings.warn(\n"
          ]
        },
        {
          "output_type": "stream",
          "name": "stdout",
          "text": [
            "{'result': 'success', 'documentation': 'https://www.exchangerate-api.com/docs', 'terms_of_use': 'https://www.exchangerate-api.com/terms', 'time_last_update_unix': 1733270402, 'time_last_update_utc': 'Wed, 04 Dec 2024 00:00:02 +0000', 'time_next_update_unix': 1733356802, 'time_next_update_utc': 'Thu, 05 Dec 2024 00:00:02 +0000', 'base_code': 'CAD', 'conversion_rates': {'CAD': 1, 'AED': 2.6129, 'AFN': 48.5253, 'ALL': 66.8086, 'AMD': 284.3601, 'ANG': 1.2735, 'AOA': 663.9745, 'ARS': 720.8414, 'AUD': 1.0974, 'AWG': 1.2735, 'AZN': 1.2114, 'BAM': 1.3235, 'BBD': 1.4229, 'BDT': 85.0201, 'BGN': 1.3238, 'BHD': 0.2675, 'BIF': 2103.3365, 'BMD': 0.7115, 'BND': 0.9571, 'BOB': 4.9248, 'BRL': 4.3214, 'BSD': 0.7115, 'BTN': 60.2774, 'BWP': 9.7258, 'BYN': 2.3965, 'BZD': 1.4229, 'CDF': 2044.3645, 'CHF': 0.6302, 'CLP': 697.5061, 'CNY': 5.1885, 'COP': 3171.901, 'CRC': 361.6558, 'CUP': 17.0753, 'CVE': 74.6168, 'CZK': 17.0694, 'DJF': 126.4434, 'DKK': 5.0477, 'DOP': 43.1191, 'DZD': 95.3004, 'EGP': 35.381, 'ERN': 10.6721, 'ETB': 88.8854, 'EUR': 0.6767, 'FJD': 1.6182, 'FKP': 0.5617, 'FOK': 5.0475, 'GBP': 0.5617, 'GEL': 2.0437, 'GGP': 0.5617, 'GHS': 10.8131, 'GIP': 0.5617, 'GMD': 51.3997, 'GNF': 6112.9615, 'GTQ': 5.4986, 'GYD': 148.8075, 'HKD': 5.537, 'HNL': 18.0381, 'HRK': 5.0986, 'HTG': 93.3221, 'HUF': 280.6968, 'IDR': 11352.8527, 'ILS': 2.5819, 'IMP': 0.5617, 'INR': 60.2783, 'IQD': 930.8383, 'IRR': 30308.5766, 'ISK': 98.7486, 'JEP': 0.5617, 'JMD': 111.7552, 'JOD': 0.5044, 'JPY': 106.3747, 'KES': 92.3454, 'KGS': 61.8486, 'KHR': 2878.25, 'KID': 1.0974, 'KMF': 332.9168, 'KRW': 1001.4896, 'KWD': 0.2185, 'KYD': 0.5929, 'KZT': 372.6956, 'LAK': 15642.8884, 'LBP': 63676.6876, 'LKR': 206.875, 'LRD': 127.6469, 'LSL': 12.8848, 'LYD': 3.4734, 'MAD': 7.1139, 'MDL': 13.0305, 'MGA': 3314.3485, 'MKD': 41.6972, 'MMK': 2035.2714, 'MNT': 2451.3551, 'MOP': 5.7028, 'MRU': 28.2254, 'MUR': 33.2902, 'MVR': 11.0044, 'MWK': 1242.3033, 'MXN': 14.4569, 'MYR': 3.1821, 'MZN': 45.5556, 'NAD': 12.8848, 'NGN': 1190.013, 'NIO': 26.2204, 'NOK': 7.87, 'NPR': 96.4438, 'NZD': 1.2093, 'OMR': 0.2736, 'PAB': 0.7115, 'PEN': 2.6649, 'PGK': 2.8482, 'PHP': 41.7016, 'PKR': 197.5639, 'PLN': 2.9066, 'PYG': 5586.5836, 'QAR': 2.5898, 'RON': 3.3734, 'RSD': 79.3012, 'RUB': 75.1807, 'RWF': 1000.6661, 'SAR': 2.668, 'SBD': 6.0366, 'SCR': 9.7149, 'SDG': 317.9462, 'SEK': 7.8268, 'SGD': 0.9571, 'SHP': 0.5617, 'SLE': 16.1748, 'SLL': 16173.2871, 'SOS': 406.5929, 'SRD': 25.1289, 'SSP': 2707.7859, 'STN': 16.5793, 'SYP': 9190.9093, 'SZL': 12.8848, 'THB': 24.4922, 'TJS': 7.6994, 'TMT': 2.4947, 'TND': 2.2474, 'TOP': 1.6721, 'TRY': 24.7222, 'TTD': 4.9466, 'TVD': 1.0974, 'TWD': 23.1991, 'TZS': 1877.3975, 'UAH': 29.7468, 'UGX': 2627.5338, 'USD': 0.7115, 'UYU': 30.802, 'UZS': 9149.2223, 'VES': 34.0506, 'VND': 18077.8536, 'VUV': 84.3936, 'WST': 1.9472, 'XAF': 443.8891, 'XCD': 1.921, 'XDR': 0.5418, 'XOF': 443.8891, 'XPF': 80.7525, 'YER': 178.2475, 'ZAR': 12.8853, 'ZMW': 19.2581, 'ZWL': 18.2163}}\n"
          ]
        }
      ]
    },
    {
      "cell_type": "markdown",
      "source": [
        "####Extracting keys and values and displaying them in different columns of a table"
      ],
      "metadata": {
        "id": "JmKeFHke4IW-"
      }
    },
    {
      "cell_type": "code",
      "source": [
        "x_rates=exchange_data['conversion_rates']\n",
        "code=np.array(list(x_rates.keys()))\n",
        "value=(np.array(list(x_rates.values())))\n",
        "\n",
        "#print(code,value)\n",
        "Currency_API_table=Table().with_columns(\"Code\",code,\"Values\",value)\n",
        "Currency_API_table.show(10)"
      ],
      "metadata": {
        "colab": {
          "base_uri": "https://localhost:8080/",
          "height": 392
        },
        "id": "aZu3RP852bDv",
        "outputId": "72f36381-6758-4ced-9318-5c5c720b4254"
      },
      "execution_count": null,
      "outputs": [
        {
          "output_type": "display_data",
          "data": {
            "text/plain": [
              "<IPython.core.display.HTML object>"
            ],
            "text/html": [
              "<table border=\"1\" class=\"dataframe\">\n",
              "    <thead>\n",
              "        <tr>\n",
              "            <th>Code</th> <th>Values</th>\n",
              "        </tr>\n",
              "    </thead>\n",
              "    <tbody>\n",
              "        <tr>\n",
              "            <td>CAD </td> <td>1      </td>\n",
              "        </tr>\n",
              "        <tr>\n",
              "            <td>AED </td> <td>2.6129 </td>\n",
              "        </tr>\n",
              "        <tr>\n",
              "            <td>AFN </td> <td>48.5253</td>\n",
              "        </tr>\n",
              "        <tr>\n",
              "            <td>ALL </td> <td>66.8086</td>\n",
              "        </tr>\n",
              "        <tr>\n",
              "            <td>AMD </td> <td>284.36 </td>\n",
              "        </tr>\n",
              "        <tr>\n",
              "            <td>ANG </td> <td>1.2735 </td>\n",
              "        </tr>\n",
              "        <tr>\n",
              "            <td>AOA </td> <td>663.975</td>\n",
              "        </tr>\n",
              "        <tr>\n",
              "            <td>ARS </td> <td>720.841</td>\n",
              "        </tr>\n",
              "        <tr>\n",
              "            <td>AUD </td> <td>1.0974 </td>\n",
              "        </tr>\n",
              "        <tr>\n",
              "            <td>AWG </td> <td>1.2735 </td>\n",
              "        </tr>\n",
              "    </tbody>\n",
              "</table>\n",
              "<p>... (152 rows omitted)</p>"
            ]
          },
          "metadata": {}
        }
      ]
    },
    {
      "cell_type": "markdown",
      "source": [
        "---\n",
        "# Applying the currency codes with corresponding names table"
      ],
      "metadata": {
        "id": "jKWkRfbnkcpP"
      }
    },
    {
      "cell_type": "markdown",
      "source": [
        "####Scraping the currency codes table\n",
        "\n",
        "Next step was to scrape a table from wikipedia with their corresponding currency codes in order to apply the codes from the API for ease conversion"
      ],
      "metadata": {
        "id": "VkaGDgmU4uUt"
      }
    },
    {
      "cell_type": "code",
      "source": [
        "url ='https://en.wikipedia.org/wiki/ISO_4217'\n",
        "r = requests.get(url)\n",
        "r.text\n",
        "soup = BeautifulSoup(r.text, 'html.parser')\n",
        "table_currency=soup.find_all('table')[1]\n",
        "currency_code=scrape_table(table_currency)\n",
        "currency_code.show(10)"
      ],
      "metadata": {
        "colab": {
          "base_uri": "https://localhost:8080/",
          "height": 447
        },
        "id": "PBsTLEmiSBTa",
        "outputId": "1bfcd843-dc5b-472f-a2a7-6831e792f0b3",
        "collapsed": true
      },
      "execution_count": null,
      "outputs": [
        {
          "output_type": "stream",
          "name": "stderr",
          "text": [
            "<ipython-input-56-adaf5c078b53>:2: FutureWarning: Passing literal html to 'read_html' is deprecated and will be removed in a future version. To read from a literal string, wrap it in a 'StringIO' object.\n",
            "  df = pd.read_html(str(table)) #return as list\n"
          ]
        },
        {
          "output_type": "display_data",
          "data": {
            "text/plain": [
              "<IPython.core.display.HTML object>"
            ],
            "text/html": [
              "<table border=\"1\" class=\"dataframe\">\n",
              "    <thead>\n",
              "        <tr>\n",
              "            <th>Code</th> <th>Num</th> <th>D[a]</th> <th>Currency</th> <th>Locations listed for this currency[b]</th>\n",
              "        </tr>\n",
              "    </thead>\n",
              "    <tbody>\n",
              "        <tr>\n",
              "            <td>AED </td> <td>784 </td> <td>2   </td> <td>United Arab Emirates dirham  </td> <td>United Arab Emirates                                        </td>\n",
              "        </tr>\n",
              "        <tr>\n",
              "            <td>AFN </td> <td>971 </td> <td>2   </td> <td>Afghan afghani               </td> <td>Afghanistan                                                 </td>\n",
              "        </tr>\n",
              "        <tr>\n",
              "            <td>ALL </td> <td>8   </td> <td>2   </td> <td>Albanian lek                 </td> <td>Albania                                                     </td>\n",
              "        </tr>\n",
              "        <tr>\n",
              "            <td>AMD </td> <td>51  </td> <td>2   </td> <td>Armenian dram                </td> <td>Armenia                                                     </td>\n",
              "        </tr>\n",
              "        <tr>\n",
              "            <td>ANG </td> <td>532 </td> <td>2   </td> <td>Netherlands Antillean guilder</td> <td>Curaçao (CW), Sint Maarten (SX)                             </td>\n",
              "        </tr>\n",
              "        <tr>\n",
              "            <td>AOA </td> <td>973 </td> <td>2   </td> <td>Angolan kwanza               </td> <td>Angola                                                      </td>\n",
              "        </tr>\n",
              "        <tr>\n",
              "            <td>ARS </td> <td>32  </td> <td>2   </td> <td>Argentine peso               </td> <td>Argentina                                                   </td>\n",
              "        </tr>\n",
              "        <tr>\n",
              "            <td>AUD </td> <td>36  </td> <td>2   </td> <td>Australian dollar            </td> <td>Australia, Christmas Island (CX), Cocos (Keeling) Island ...</td>\n",
              "        </tr>\n",
              "        <tr>\n",
              "            <td>AWG </td> <td>533 </td> <td>2   </td> <td>Aruban florin                </td> <td>Aruba                                                       </td>\n",
              "        </tr>\n",
              "        <tr>\n",
              "            <td>AZN </td> <td>944 </td> <td>2   </td> <td>Azerbaijani manat            </td> <td>Azerbaijan                                                  </td>\n",
              "        </tr>\n",
              "    </tbody>\n",
              "</table>\n",
              "<p>... (168 rows omitted)</p>"
            ]
          },
          "metadata": {}
        }
      ]
    },
    {
      "cell_type": "markdown",
      "source": [
        "####As to the \" Locations listed for this currency[b] \" column, take only the first country as reference"
      ],
      "metadata": {
        "id": "46r94D0u5W6Z"
      }
    },
    {
      "cell_type": "code",
      "source": [
        "def split_countries(country):\n",
        "  if \",\" in country:\n",
        "    return country.split(',')[0].strip()\n",
        "  else:\n",
        "    return country"
      ],
      "metadata": {
        "id": "OS32z6QmBlxd"
      },
      "execution_count": null,
      "outputs": []
    },
    {
      "cell_type": "code",
      "source": [
        "print(split_countries('Australia, Christmas Island (CX), Cocos (Keeling) Island'))"
      ],
      "metadata": {
        "colab": {
          "base_uri": "https://localhost:8080/"
        },
        "id": "KhByslPmBrJ8",
        "outputId": "fd83d953-9ecc-4cdf-a258-de3974a01f94"
      },
      "execution_count": null,
      "outputs": [
        {
          "output_type": "stream",
          "name": "stdout",
          "text": [
            "Australia\n"
          ]
        }
      ]
    },
    {
      "cell_type": "markdown",
      "source": [
        "####Take only the necessary columns, relabled the \" Locations listed for this currency[b] \" with \" Location \", and applying the function"
      ],
      "metadata": {
        "id": "RYPz07GR5-qE"
      }
    },
    {
      "cell_type": "code",
      "source": [
        "\n",
        "#Clean data for country codes and currency\n",
        "currency_code=currency_code.drop(\"Num\",\"D[a]\")\n",
        "currency_code=currency_code.relabel(\"Locations listed for this currency[b]\",\"Locations\")\n",
        "\n",
        "#splitting the countries in the last column for easy use\n",
        "locations_split=currency_code.apply(split_countries,\"Locations\")\n",
        "currency_code=currency_code.with_column(\"Locations\",locations_split)\n",
        "\n",
        "currency_code=currency_code.with_row([\"EUR\",\"Euro\",\"UK\"])\n",
        "\n",
        "currency_code.show(10)"
      ],
      "metadata": {
        "colab": {
          "base_uri": "https://localhost:8080/",
          "height": 392
        },
        "id": "i0VUP5pYz-o7",
        "outputId": "fab32633-e9e2-4b0e-bd4d-830433f940de"
      },
      "execution_count": null,
      "outputs": [
        {
          "output_type": "display_data",
          "data": {
            "text/plain": [
              "<IPython.core.display.HTML object>"
            ],
            "text/html": [
              "<table border=\"1\" class=\"dataframe\">\n",
              "    <thead>\n",
              "        <tr>\n",
              "            <th>Code</th> <th>Currency</th> <th>Locations</th>\n",
              "        </tr>\n",
              "    </thead>\n",
              "    <tbody>\n",
              "        <tr>\n",
              "            <td>AED </td> <td>United Arab Emirates dirham  </td> <td>United Arab Emirates</td>\n",
              "        </tr>\n",
              "        <tr>\n",
              "            <td>AFN </td> <td>Afghan afghani               </td> <td>Afghanistan         </td>\n",
              "        </tr>\n",
              "        <tr>\n",
              "            <td>ALL </td> <td>Albanian lek                 </td> <td>Albania             </td>\n",
              "        </tr>\n",
              "        <tr>\n",
              "            <td>AMD </td> <td>Armenian dram                </td> <td>Armenia             </td>\n",
              "        </tr>\n",
              "        <tr>\n",
              "            <td>ANG </td> <td>Netherlands Antillean guilder</td> <td>Curaçao (CW)        </td>\n",
              "        </tr>\n",
              "        <tr>\n",
              "            <td>AOA </td> <td>Angolan kwanza               </td> <td>Angola              </td>\n",
              "        </tr>\n",
              "        <tr>\n",
              "            <td>ARS </td> <td>Argentine peso               </td> <td>Argentina           </td>\n",
              "        </tr>\n",
              "        <tr>\n",
              "            <td>AUD </td> <td>Australian dollar            </td> <td>Australia           </td>\n",
              "        </tr>\n",
              "        <tr>\n",
              "            <td>AWG </td> <td>Aruban florin                </td> <td>Aruba               </td>\n",
              "        </tr>\n",
              "        <tr>\n",
              "            <td>AZN </td> <td>Azerbaijani manat            </td> <td>Azerbaijan          </td>\n",
              "        </tr>\n",
              "    </tbody>\n",
              "</table>\n",
              "<p>... (169 rows omitted)</p>"
            ]
          },
          "metadata": {}
        }
      ]
    },
    {
      "cell_type": "markdown",
      "source": [
        "---\n",
        "### Joining 2 tables: currency_API_table and currency_code Table with the reference of \" Code \" column\n",
        "\n",
        "Now we have both the currency rate and country names in one table by using the join function\n"
      ],
      "metadata": {
        "id": "YN30yGsy0YfB"
      }
    },
    {
      "cell_type": "code",
      "source": [
        "joined_forex=Currency_API_table.join(\"Code\",currency_code)\n",
        "joined_forex.show(3)"
      ],
      "metadata": {
        "colab": {
          "base_uri": "https://localhost:8080/",
          "height": 173
        },
        "id": "5TEP180n0oor",
        "outputId": "8eaead2b-fda2-4775-b104-7c625941059d"
      },
      "execution_count": null,
      "outputs": [
        {
          "output_type": "display_data",
          "data": {
            "text/plain": [
              "<IPython.core.display.HTML object>"
            ],
            "text/html": [
              "<table border=\"1\" class=\"dataframe\">\n",
              "    <thead>\n",
              "        <tr>\n",
              "            <th>Code</th> <th>Values</th> <th>Currency</th> <th>Locations</th>\n",
              "        </tr>\n",
              "    </thead>\n",
              "    <tbody>\n",
              "        <tr>\n",
              "            <td>AED </td> <td>2.6129 </td> <td>United Arab Emirates dirham</td> <td>United Arab Emirates</td>\n",
              "        </tr>\n",
              "        <tr>\n",
              "            <td>AFN </td> <td>48.5253</td> <td>Afghan afghani             </td> <td>Afghanistan         </td>\n",
              "        </tr>\n",
              "        <tr>\n",
              "            <td>ALL </td> <td>66.8086</td> <td>Albanian lek               </td> <td>Albania             </td>\n",
              "        </tr>\n",
              "    </tbody>\n",
              "</table>\n",
              "<p>... (151 rows omitted)</p>"
            ]
          },
          "metadata": {}
        }
      ]
    },
    {
      "cell_type": "markdown",
      "source": [
        "---\n",
        "### Joing new Forex Table to initial iphone table\n",
        "\n",
        "Gives us only those 11 countries that we need for iphone table and joins it to corresponding rate exchanges from API"
      ],
      "metadata": {
        "id": "wbXg3A3l-NAt"
      }
    },
    {
      "cell_type": "code",
      "source": [
        "required_forex=joined_forex.join(\"Locations\",iphone,\"Country\").select(\"Locations\",\"Code\",\"Values\",\"Currency\").sort(\"Locations\")\n",
        "required_forex.show(10)"
      ],
      "metadata": {
        "colab": {
          "base_uri": "https://localhost:8080/",
          "height": 392
        },
        "id": "ncz6EFEz-YLd",
        "outputId": "d1db5636-9dfd-42a1-97f5-cb9d33c5d9e1"
      },
      "execution_count": null,
      "outputs": [
        {
          "output_type": "display_data",
          "data": {
            "text/plain": [
              "<IPython.core.display.HTML object>"
            ],
            "text/html": [
              "<table border=\"1\" class=\"dataframe\">\n",
              "    <thead>\n",
              "        <tr>\n",
              "            <th>Locations</th> <th>Code</th> <th>Values</th> <th>Currency</th>\n",
              "        </tr>\n",
              "    </thead>\n",
              "    <tbody>\n",
              "        <tr>\n",
              "            <td>Australia           </td> <td>AUD </td> <td>1.0974 </td> <td>Australian dollar          </td>\n",
              "        </tr>\n",
              "        <tr>\n",
              "            <td>Canada              </td> <td>CAD </td> <td>1      </td> <td>Canadian dollar            </td>\n",
              "        </tr>\n",
              "        <tr>\n",
              "            <td>China               </td> <td>CNY </td> <td>5.1885 </td> <td>Renminbi[6]                </td>\n",
              "        </tr>\n",
              "        <tr>\n",
              "            <td>Hong Kong           </td> <td>HKD </td> <td>5.537  </td> <td>Hong Kong dollar           </td>\n",
              "        </tr>\n",
              "        <tr>\n",
              "            <td>India               </td> <td>INR </td> <td>60.2783</td> <td>Indian rupee               </td>\n",
              "        </tr>\n",
              "        <tr>\n",
              "            <td>Japan               </td> <td>JPY </td> <td>106.375</td> <td>Japanese yen               </td>\n",
              "        </tr>\n",
              "        <tr>\n",
              "            <td>Thailand            </td> <td>THB </td> <td>24.4922</td> <td>Thai baht                  </td>\n",
              "        </tr>\n",
              "        <tr>\n",
              "            <td>UK                  </td> <td>EUR </td> <td>0.6767 </td> <td>Euro                       </td>\n",
              "        </tr>\n",
              "        <tr>\n",
              "            <td>United Arab Emirates</td> <td>AED </td> <td>2.6129 </td> <td>United Arab Emirates dirham</td>\n",
              "        </tr>\n",
              "        <tr>\n",
              "            <td>United States       </td> <td>USD </td> <td>0.7115 </td> <td>United States dollar       </td>\n",
              "        </tr>\n",
              "    </tbody>\n",
              "</table>\n",
              "<p>... (1 rows omitted)</p>"
            ]
          },
          "metadata": {}
        }
      ]
    },
    {
      "cell_type": "markdown",
      "source": [
        "---\n",
        "### Applying the exchange rates to Iphone table\n",
        "converting the price to CAD"
      ],
      "metadata": {
        "id": "0D0jzdpoMDQS"
      }
    },
    {
      "cell_type": "code",
      "source": [
        "def currency_rate(price,rate):\n",
        "  return price/rate"
      ],
      "metadata": {
        "id": "XLwr2nRaK8OO"
      },
      "execution_count": null,
      "outputs": []
    },
    {
      "cell_type": "code",
      "source": [
        "currency_rates=required_forex.column(\"Values\")\n",
        "Converted_table=Table().with_columns(\"Country\",iphone.column(\"Country\"))\n",
        "for col in iphone.labels[1:]:\n",
        "  #print(col)\n",
        "  Converted_table= Converted_table.with_columns(f'{col}',currency_rate(iphone.column(f'{col}'),currency_rates))\n",
        "\n",
        "Converted_table.show(10)\n"
      ],
      "metadata": {
        "colab": {
          "base_uri": "https://localhost:8080/",
          "height": 392
        },
        "id": "wlPBj4JrMOlC",
        "outputId": "f0cfbe1d-d46a-4f51-c6a2-f50507ba5934"
      },
      "execution_count": null,
      "outputs": [
        {
          "output_type": "display_data",
          "data": {
            "text/plain": [
              "<IPython.core.display.HTML object>"
            ],
            "text/html": [
              "<table border=\"1\" class=\"dataframe\">\n",
              "    <thead>\n",
              "        <tr>\n",
              "            <th>Country</th> <th>iPhone 16</th> <th>iPhone 16 Plus</th> <th>iPhone 16 Pro</th> <th>iPhone 16 Pro Max</th>\n",
              "        </tr>\n",
              "    </thead>\n",
              "    <tbody>\n",
              "        <tr>\n",
              "            <td>Australia           </td> <td>1274.83  </td> <td>1457.08       </td> <td>1639.33      </td> <td>1958.26          </td>\n",
              "        </tr>\n",
              "        <tr>\n",
              "            <td>Canada              </td> <td>1129     </td> <td>1279          </td> <td>1449         </td> <td>1749             </td>\n",
              "        </tr>\n",
              "        <tr>\n",
              "            <td>China               </td> <td>1156.21  </td> <td>1348.94       </td> <td>1541.68      </td> <td>1927.15          </td>\n",
              "        </tr>\n",
              "        <tr>\n",
              "            <td>Hong Kong           </td> <td>1245.98  </td> <td>1390.46       </td> <td>1553.01      </td> <td>1841.97          </td>\n",
              "        </tr>\n",
              "        <tr>\n",
              "            <td>India               </td> <td>1325.52  </td> <td>1491.42       </td> <td>1989.11      </td> <td>2403.85          </td>\n",
              "        </tr>\n",
              "        <tr>\n",
              "            <td>Japan               </td> <td>1173.21  </td> <td>1314.22       </td> <td>1502.24      </td> <td>1784.26          </td>\n",
              "        </tr>\n",
              "        <tr>\n",
              "            <td>Thailand            </td> <td>1220.8   </td> <td>1424.94       </td> <td>1629.09      </td> <td>1996.55          </td>\n",
              "        </tr>\n",
              "        <tr>\n",
              "            <td>UK                  </td> <td>1180.73  </td> <td>1328.51       </td> <td>1476.28      </td> <td>1771.83          </td>\n",
              "        </tr>\n",
              "        <tr>\n",
              "            <td>United Arab Emirates</td> <td>1300.85  </td> <td>1453.94       </td> <td>1645.3       </td> <td>1951.47          </td>\n",
              "        </tr>\n",
              "        <tr>\n",
              "            <td>United States       </td> <td>1122.98  </td> <td>1263.53       </td> <td>1404.08      </td> <td>1685.17          </td>\n",
              "        </tr>\n",
              "    </tbody>\n",
              "</table>\n",
              "<p>... (1 rows omitted)</p>"
            ]
          },
          "metadata": {}
        }
      ]
    },
    {
      "cell_type": "code",
      "source": [
        "country_most_expensive=Converted_table.sort(\"iPhone 16\",descending=True)\n",
        "country_least_expensive=Converted_table.sort(\"iPhone 16\",descending=False)\n",
        "\n",
        "\n",
        "print(f'Country with most expensive iphone 16 is {country_most_expensive.column(\"Country\")[0]} with price $CAD {country_most_expensive.column(\"iPhone 16\")[0]}')\n",
        "print(f'Country with least expensive iphone 16 is {country_least_expensive.column(\"Country\")[0]} with price $CAD {country_least_expensive.column(\"iPhone 16\")[0]}')"
      ],
      "metadata": {
        "colab": {
          "base_uri": "https://localhost:8080/"
        },
        "id": "PLcyrCifL1g6",
        "outputId": "f2666462-a033-4bac-c871-7052ef76b11e"
      },
      "execution_count": null,
      "outputs": [
        {
          "output_type": "stream",
          "name": "stdout",
          "text": [
            "Country with most expensive iphone 16 is India with price $CAD 1325.5184701625626\n",
            "Country with least expensive iphone 16 is United States with price $CAD 1122.979620520028\n"
          ]
        }
      ]
    },
    {
      "cell_type": "markdown",
      "source": [
        "# SO WHAT IS CAUSIG THIS HUGE PRICE DIFFERENCE? IS IT INFLATION?\n",
        "\n",
        "We want to check if its the increasing inflation rate in India\n",
        "Hypothetically, if the prices of iPhone should be more in a country if theres is high inflation rate"
      ],
      "metadata": {
        "id": "K0vkAORrCZX_"
      }
    },
    {
      "cell_type": "markdown",
      "source": [
        "####Scraping the inflation rate of America and displaying"
      ],
      "metadata": {
        "id": "FVbv5zPD7xGZ"
      }
    },
    {
      "cell_type": "code",
      "source": [
        "url_inflation ='https://www.investopedia.com/inflation-rate-by-year-7253832'\n",
        "r_inflation = requests.get(url_inflation)\n",
        "r_inflation.text\n",
        "soup = BeautifulSoup(r_inflation.text, 'html.parser')\n",
        "table_inflation=soup.find_all('table')\n",
        "inflation_code=scrape_table(table_inflation)\n",
        "inflation_code.show(10)"
      ],
      "metadata": {
        "colab": {
          "base_uri": "https://localhost:8080/",
          "height": 499
        },
        "id": "ztym_J657oTX",
        "outputId": "975d4ac2-019d-4181-f8ee-87aad2f67619"
      },
      "execution_count": null,
      "outputs": [
        {
          "output_type": "stream",
          "name": "stderr",
          "text": [
            "<ipython-input-56-adaf5c078b53>:2: FutureWarning: Passing literal html to 'read_html' is deprecated and will be removed in a future version. To read from a literal string, wrap it in a 'StringIO' object.\n",
            "  df = pd.read_html(str(table)) #return as list\n"
          ]
        },
        {
          "output_type": "display_data",
          "data": {
            "text/plain": [
              "<IPython.core.display.HTML object>"
            ],
            "text/html": [
              "<table border=\"1\" class=\"dataframe\">\n",
              "    <thead>\n",
              "        <tr>\n",
              "            <th>Year</th> <th>Inflation Rate YOY, From Previous Dec.</th> <th>Federal Funds Rate</th> <th>Business Cycle*</th> <th>Events Affecting Inflation</th>\n",
              "        </tr>\n",
              "    </thead>\n",
              "    <tbody>\n",
              "        <tr>\n",
              "            <td>Year</td> <td>Inflation Rate YOY, From Previous Dec.</td> <td>Federal Funds Rate</td> <td>Business Cycle*                   </td> <td>Events Affecting Inflation</td>\n",
              "        </tr>\n",
              "        <tr>\n",
              "            <td>1929</td> <td>0.60%                                 </td> <td>nan               </td> <td>August peak                       </td> <td>Market crash              </td>\n",
              "        </tr>\n",
              "        <tr>\n",
              "            <td>1930</td> <td>-6.40%                                </td> <td>nan               </td> <td>Contraction (-8.5%)               </td> <td>Smoot-Hawley Tariff Act   </td>\n",
              "        </tr>\n",
              "        <tr>\n",
              "            <td>1931</td> <td>-9.30%                                </td> <td>nan               </td> <td>Contraction (-6.4%)               </td> <td>Dust Bowl began           </td>\n",
              "        </tr>\n",
              "        <tr>\n",
              "            <td>1932</td> <td>-10.30%                               </td> <td>nan               </td> <td>Contraction (-12.9%)              </td> <td>Hoover tax hikes          </td>\n",
              "        </tr>\n",
              "        <tr>\n",
              "            <td>1933</td> <td>0.80%                                 </td> <td>nan               </td> <td>Contraction ended in March (-1.2%)</td> <td>FDR’s New Deal            </td>\n",
              "        </tr>\n",
              "        <tr>\n",
              "            <td>1934</td> <td>1.50%                                 </td> <td>nan               </td> <td>Expansion (10.8%)                 </td> <td>U.S. debt rose            </td>\n",
              "        </tr>\n",
              "        <tr>\n",
              "            <td>1935</td> <td>3.00%                                 </td> <td>nan               </td> <td>Expansion (8.9%)                  </td> <td>Social Security           </td>\n",
              "        </tr>\n",
              "        <tr>\n",
              "            <td>1936</td> <td>1.40%                                 </td> <td>nan               </td> <td>Expansion (12.9%)                 </td> <td>FDR tax hikes             </td>\n",
              "        </tr>\n",
              "        <tr>\n",
              "            <td>1937</td> <td>2.90%                                 </td> <td>nan               </td> <td>Expansion peaked in May (5.1%)    </td> <td>Depression resumed        </td>\n",
              "        </tr>\n",
              "    </tbody>\n",
              "</table>\n",
              "<p>... (86 rows omitted)</p>"
            ]
          },
          "metadata": {}
        }
      ]
    },
    {
      "cell_type": "markdown",
      "source": [
        "####Remove the repetitive first row and take only the Year and Inflation Rate as independent and dependent values"
      ],
      "metadata": {
        "id": "_gaz2Lsy75cZ"
      }
    },
    {
      "cell_type": "code",
      "source": [
        "inflation_code=inflation_code.remove(0)\n",
        "inflation_code=inflation_code.drop('Federal Funds Rate','Business Cycle*','Events Affecting Inflation')\n",
        "inflation_code.show(10)"
      ],
      "metadata": {
        "collapsed": true,
        "id": "rr8Gve29-WXo",
        "colab": {
          "base_uri": "https://localhost:8080/",
          "height": 392
        },
        "outputId": "fe80da01-fa9e-497a-d082-5f96b5d22e29"
      },
      "execution_count": null,
      "outputs": [
        {
          "output_type": "display_data",
          "data": {
            "text/plain": [
              "<IPython.core.display.HTML object>"
            ],
            "text/html": [
              "<table border=\"1\" class=\"dataframe\">\n",
              "    <thead>\n",
              "        <tr>\n",
              "            <th>Year</th> <th>Inflation Rate YOY, From Previous Dec.</th>\n",
              "        </tr>\n",
              "    </thead>\n",
              "    <tbody>\n",
              "        <tr>\n",
              "            <td>1929</td> <td>0.60%                                 </td>\n",
              "        </tr>\n",
              "        <tr>\n",
              "            <td>1930</td> <td>-6.40%                                </td>\n",
              "        </tr>\n",
              "        <tr>\n",
              "            <td>1931</td> <td>-9.30%                                </td>\n",
              "        </tr>\n",
              "        <tr>\n",
              "            <td>1932</td> <td>-10.30%                               </td>\n",
              "        </tr>\n",
              "        <tr>\n",
              "            <td>1933</td> <td>0.80%                                 </td>\n",
              "        </tr>\n",
              "        <tr>\n",
              "            <td>1934</td> <td>1.50%                                 </td>\n",
              "        </tr>\n",
              "        <tr>\n",
              "            <td>1935</td> <td>3.00%                                 </td>\n",
              "        </tr>\n",
              "        <tr>\n",
              "            <td>1936</td> <td>1.40%                                 </td>\n",
              "        </tr>\n",
              "        <tr>\n",
              "            <td>1937</td> <td>2.90%                                 </td>\n",
              "        </tr>\n",
              "        <tr>\n",
              "            <td>1938</td> <td>-2.80%                                </td>\n",
              "        </tr>\n",
              "    </tbody>\n",
              "</table>\n",
              "<p>... (85 rows omitted)</p>"
            ]
          },
          "metadata": {}
        }
      ]
    },
    {
      "cell_type": "markdown",
      "source": [
        "###Cleaning Data"
      ],
      "metadata": {
        "id": "oPIlAHQa8NDe"
      }
    },
    {
      "cell_type": "markdown",
      "source": [
        "####Take float number from column"
      ],
      "metadata": {
        "id": "kCebYLNa8RII"
      }
    },
    {
      "cell_type": "code",
      "source": [
        "#take float number from column\n",
        "def get_percent(percentage):\n",
        "  percentage=percentage.replace('%','')\n",
        "  percentage=percentage.replace('.','.')\n",
        "  return float(percentage)\n",
        "def get_year_number(year):\n",
        "  return int(year)"
      ],
      "metadata": {
        "id": "wmF6NlJF_Uih"
      },
      "execution_count": null,
      "outputs": []
    },
    {
      "cell_type": "code",
      "source": [
        "inflation_rate=inflation_code.apply(get_percent,'Inflation Rate YOY, From Previous Dec.')\n",
        "inflation_rate=inflation_rate.tolist()\n",
        "year=inflation_code.apply(get_year_number,'Year')\n",
        "year=year.tolist()\n"
      ],
      "metadata": {
        "collapsed": true,
        "id": "p36x4NzG_2qk"
      },
      "execution_count": null,
      "outputs": []
    },
    {
      "cell_type": "markdown",
      "source": [
        "####Relabled the table, and take only inflation rate after 2007 for analysis\n",
        "\n",
        "\n",
        "The release year of the first iphone is 2007"
      ],
      "metadata": {
        "id": "A1IAS1gv8dZT"
      }
    },
    {
      "cell_type": "code",
      "source": [
        "inflation=inflation_code.with_column('Inflation Rate YOY, From Previous Dec.',inflation_rate)\n",
        "inflation=inflation.relabeled('Inflation Rate YOY, From Previous Dec.','Inflation Rate')\n",
        "inflation=inflation.with_column('Year',year)\n",
        "inflation=inflation.where('Year',are.above_or_equal_to(2007))\n",
        "inflation.show()"
      ],
      "metadata": {
        "id": "aQ8xvySlAvO8",
        "colab": {
          "base_uri": "https://localhost:8080/",
          "height": 582
        },
        "outputId": "d5f23902-c03e-4932-b1bf-f813e562096a"
      },
      "execution_count": null,
      "outputs": [
        {
          "output_type": "display_data",
          "data": {
            "text/plain": [
              "<IPython.core.display.HTML object>"
            ],
            "text/html": [
              "<table border=\"1\" class=\"dataframe\">\n",
              "    <thead>\n",
              "        <tr>\n",
              "            <th>Year</th> <th>Inflation Rate</th>\n",
              "        </tr>\n",
              "    </thead>\n",
              "    <tbody>\n",
              "        <tr>\n",
              "            <td>2007</td> <td>4.1           </td>\n",
              "        </tr>\n",
              "        <tr>\n",
              "            <td>2008</td> <td>0.1           </td>\n",
              "        </tr>\n",
              "        <tr>\n",
              "            <td>2009</td> <td>2.7           </td>\n",
              "        </tr>\n",
              "        <tr>\n",
              "            <td>2010</td> <td>1.5           </td>\n",
              "        </tr>\n",
              "        <tr>\n",
              "            <td>2011</td> <td>3             </td>\n",
              "        </tr>\n",
              "        <tr>\n",
              "            <td>2012</td> <td>1.7           </td>\n",
              "        </tr>\n",
              "        <tr>\n",
              "            <td>2013</td> <td>1.5           </td>\n",
              "        </tr>\n",
              "        <tr>\n",
              "            <td>2014</td> <td>0.8           </td>\n",
              "        </tr>\n",
              "        <tr>\n",
              "            <td>2015</td> <td>0.7           </td>\n",
              "        </tr>\n",
              "        <tr>\n",
              "            <td>2016</td> <td>2.1           </td>\n",
              "        </tr>\n",
              "        <tr>\n",
              "            <td>2017</td> <td>2.1           </td>\n",
              "        </tr>\n",
              "        <tr>\n",
              "            <td>2018</td> <td>1.9           </td>\n",
              "        </tr>\n",
              "        <tr>\n",
              "            <td>2019</td> <td>2.3           </td>\n",
              "        </tr>\n",
              "        <tr>\n",
              "            <td>2020</td> <td>1.4           </td>\n",
              "        </tr>\n",
              "        <tr>\n",
              "            <td>2021</td> <td>7             </td>\n",
              "        </tr>\n",
              "        <tr>\n",
              "            <td>2022</td> <td>6.5           </td>\n",
              "        </tr>\n",
              "        <tr>\n",
              "            <td>2023</td> <td>3.4           </td>\n",
              "        </tr>\n",
              "    </tbody>\n",
              "</table>"
            ]
          },
          "metadata": {}
        }
      ]
    },
    {
      "cell_type": "markdown",
      "source": [],
      "metadata": {
        "id": "3BvtIq30_EDq"
      }
    },
    {
      "cell_type": "markdown",
      "source": [
        "### Predict the inflation rate of Year 2030 with linear regression"
      ],
      "metadata": {
        "id": "Vm-1QlvXCq2T"
      }
    },
    {
      "cell_type": "code",
      "source": [
        "def standard_units(arr):\n",
        "    \"\"\" Converts an array to standard units \"\"\"\n",
        "    return (arr - np.average(arr))/np.std(arr)\n",
        "\n",
        "def correlation(t, x, y):\n",
        "    \"\"\" Computes correlation: t is a table, and x and y are column names \"\"\"\n",
        "    x_standard = standard_units(t.column(x))\n",
        "    y_standard = standard_units(t.column(y))\n",
        "    return np.average(x_standard * y_standard)\n",
        "\n",
        "def slope(t, x, y):\n",
        "    \"\"\" Computes the slope of the regression line, like correlation above \"\"\"\n",
        "    r = correlation(t, x, y)\n",
        "    y_sd = np.std(t.column(y))\n",
        "    x_sd = np.std(t.column(x))\n",
        "    return r * y_sd / x_sd\n",
        "\n",
        "def intercept(t, x, y):\n",
        "    \"\"\" Computes the intercept of the regression line, like slope above \"\"\"\n",
        "    x_mean = np.mean(t.column(x))\n",
        "    y_mean = np.mean(t.column(y))\n",
        "    return y_mean - slope(t, x, y)*x_mean\n",
        "\n",
        "def fitted_values(t, x, y):\n",
        "    \"\"\"Return an array of the regression estimates (predictions) at all the x values\"\"\"\n",
        "    a = slope(t, x, y)\n",
        "    b = intercept(t, x, y)\n",
        "    return a*t.column(x) + b"
      ],
      "metadata": {
        "id": "5iFx4jfEC0Cg"
      },
      "execution_count": null,
      "outputs": []
    },
    {
      "cell_type": "code",
      "source": [
        "standard_units(inflation['Inflation Rate'])"
      ],
      "metadata": {
        "collapsed": true,
        "id": "3CW4m_yaDpN8",
        "colab": {
          "base_uri": "https://localhost:8080/"
        },
        "outputId": "a777848f-0086-4c11-9e24-5521a0d2c159"
      },
      "execution_count": null,
      "outputs": [
        {
          "output_type": "execute_result",
          "data": {
            "text/plain": [
              "array([ 0.86900884, -1.32774214,  0.100146  , -0.55887929,  0.26490232,\n",
              "       -0.44904175, -0.55887929, -0.94331072, -0.99822949, -0.22936665,\n",
              "       -0.22936665, -0.3392042 , -0.1195291 , -0.61379807,  2.46165331,\n",
              "        2.18705943,  0.48457742])"
            ]
          },
          "metadata": {},
          "execution_count": 79
        }
      ]
    },
    {
      "cell_type": "code",
      "source": [
        "correlation(inflation, 'Year','Inflation Rate')"
      ],
      "metadata": {
        "id": "xKz1CLFHFD7h",
        "colab": {
          "base_uri": "https://localhost:8080/"
        },
        "outputId": "0191a1fa-ce49-4b51-8a15-7ba13fef290d"
      },
      "execution_count": null,
      "outputs": [
        {
          "output_type": "execute_result",
          "data": {
            "text/plain": [
              "0.42730827358742784"
            ]
          },
          "metadata": {},
          "execution_count": 80
        }
      ]
    },
    {
      "cell_type": "code",
      "source": [
        "regression_slope = slope(inflation, 'Year','Inflation Rate')\n",
        "regression_intercept = intercept(inflation, 'Year','Inflation Rate')\n",
        "regression_slope, regression_intercept"
      ],
      "metadata": {
        "id": "bJpjfSppJU-Z",
        "colab": {
          "base_uri": "https://localhost:8080/"
        },
        "outputId": "576c0787-3c34-4d4c-ecf3-ff08f4c0fab4"
      },
      "execution_count": null,
      "outputs": [
        {
          "output_type": "execute_result",
          "data": {
            "text/plain": [
              "(0.15882352941176472, -317.5117647058824)"
            ]
          },
          "metadata": {},
          "execution_count": 81
        }
      ]
    },
    {
      "cell_type": "code",
      "source": [
        "predicted=fitted_values(inflation,'Year','Inflation Rate')\n",
        "predicted"
      ],
      "metadata": {
        "collapsed": true,
        "id": "JBrlTfTBKqlx",
        "colab": {
          "base_uri": "https://localhost:8080/"
        },
        "outputId": "aa99fc59-5aa6-415b-8ba0-d408efcdb51d"
      },
      "execution_count": null,
      "outputs": [
        {
          "output_type": "execute_result",
          "data": {
            "text/plain": [
              "array([ 1.24705882,  1.40588235,  1.56470588,  1.72352941,  1.88235294,\n",
              "        2.04117647,  2.2       ,  2.35882353,  2.51764706,  2.67647059,\n",
              "        2.83529412,  2.99411765,  3.15294118,  3.31176471,  3.47058824,\n",
              "        3.62941176,  3.78823529])"
            ]
          },
          "metadata": {},
          "execution_count": 82
        }
      ]
    },
    {
      "cell_type": "markdown",
      "source": [
        "####Linear Regression graph of Inflation rate in U.S."
      ],
      "metadata": {
        "id": "QLeluJ5W_wU5"
      }
    },
    {
      "cell_type": "code",
      "source": [
        "inflation=inflation.with_column('Linear Prediction',predicted)\n",
        "inflation.scatter('Year')"
      ],
      "metadata": {
        "id": "5H0g-C5wK5MH",
        "colab": {
          "base_uri": "https://localhost:8080/",
          "height": 494
        },
        "outputId": "33a37179-7e7b-43b8-8431-e054068e5409"
      },
      "execution_count": null,
      "outputs": [
        {
          "output_type": "display_data",
          "data": {
            "text/plain": [
              "<Figure size 500x500 with 1 Axes>"
            ],
            "image/png": "[encoded data removed]"
          },
          "metadata": {}
        }
      ]
    },
    {
      "cell_type": "markdown",
      "source": [
        "####Calculating predicted inflation rate of year 2030 in U.S."
      ],
      "metadata": {
        "id": "_6eRRSeO_399"
      }
    },
    {
      "cell_type": "code",
      "source": [
        "def fit_line(x, slop, intercept):\n",
        "  return slop*x + intercept\n",
        "predicted_2030=round(fit_line(2030,regression_slope,regression_intercept),2)"
      ],
      "metadata": {
        "id": "AYjeezAAL_qf"
      },
      "execution_count": null,
      "outputs": []
    },
    {
      "cell_type": "code",
      "source": [
        "f'The predicted inflation rate for 2030 is {predicted_2030:.2f}'"
      ],
      "metadata": {
        "id": "PfLiKmHYNgKh",
        "colab": {
          "base_uri": "https://localhost:8080/",
          "height": 35
        },
        "outputId": "8fee87ba-b575-4055-b3a4-6d16a2654c2e"
      },
      "execution_count": null,
      "outputs": [
        {
          "output_type": "execute_result",
          "data": {
            "text/plain": [
              "'The predicted inflation rate for 2030 is 4.90'"
            ],
            "application/vnd.google.colaboratory.intrinsic+json": {
              "type": "string"
            }
          },
          "metadata": {},
          "execution_count": 85
        }
      ]
    },
    {
      "cell_type": "markdown",
      "source": [
        "\n",
        "# Applying inflation rate in India as reference\n"
      ],
      "metadata": {
        "id": "UvHdpda_ohty"
      }
    },
    {
      "cell_type": "markdown",
      "source": [
        "####Scraping the inflation rate in india and displaying\n",
        "\n"
      ],
      "metadata": {
        "id": "ABKd1jhw_Eoq"
      }
    },
    {
      "cell_type": "code",
      "source": [
        "url_inflation ='https://www.worlddata.info/asia/india/inflation-rates.php'\n",
        "r_inflation = requests.get(url_inflation)\n",
        "r_inflation.text\n",
        "soup = BeautifulSoup(r_inflation.text, 'html.parser')\n",
        "table_inflation=soup.find_all('table')\n",
        "inflation_code=scrape_table(table_inflation)\n",
        "inflation_code.show(3)"
      ],
      "metadata": {
        "colab": {
          "base_uri": "https://localhost:8080/",
          "height": 228
        },
        "id": "NL2fJIY6oYt8",
        "outputId": "912ecdb9-6b6f-457c-ecac-2174f5b4ef64"
      },
      "execution_count": null,
      "outputs": [
        {
          "output_type": "stream",
          "name": "stderr",
          "text": [
            "<ipython-input-56-adaf5c078b53>:2: FutureWarning: Passing literal html to 'read_html' is deprecated and will be removed in a future version. To read from a literal string, wrap it in a 'StringIO' object.\n",
            "  df = pd.read_html(str(table)) #return as list\n"
          ]
        },
        {
          "output_type": "display_data",
          "data": {
            "text/plain": [
              "<IPython.core.display.HTML object>"
            ],
            "text/html": [
              "<table border=\"1\" class=\"dataframe\">\n",
              "    <thead>\n",
              "        <tr>\n",
              "            <th>Year</th> <th>India</th> <th>Ø EU</th> <th>Ø USA</th> <th>Ø World</th>\n",
              "        </tr>\n",
              "    </thead>\n",
              "    <tbody>\n",
              "        <tr>\n",
              "            <td>2023</td> <td>5.65 %</td> <td>6.30 %</td> <td>4.12 %</td> <td>5.69 % </td>\n",
              "        </tr>\n",
              "        <tr>\n",
              "            <td>2022</td> <td>6.70 %</td> <td>8.83 %</td> <td>8.00 %</td> <td>7.97 % </td>\n",
              "        </tr>\n",
              "        <tr>\n",
              "            <td>2021</td> <td>5.13 %</td> <td>2.55 %</td> <td>4.70 %</td> <td>3.47 % </td>\n",
              "        </tr>\n",
              "    </tbody>\n",
              "</table>\n",
              "<p>... (61 rows omitted)</p>"
            ]
          },
          "metadata": {}
        }
      ]
    },
    {
      "cell_type": "markdown",
      "source": [
        "####Cleaning Data"
      ],
      "metadata": {
        "id": "adu6FDEv_Rek"
      }
    },
    {
      "cell_type": "code",
      "source": [
        "\n",
        "inflation_code=inflation_code.drop('Ø EU','Ø USA','Ø World')\n",
        "inflation_code.show(3)"
      ],
      "metadata": {
        "id": "fb-Uxb-Ko0sm",
        "colab": {
          "base_uri": "https://localhost:8080/",
          "height": 173
        },
        "outputId": "72e849bb-ed3a-4ae2-c483-d7a8ea79fd55"
      },
      "execution_count": null,
      "outputs": [
        {
          "output_type": "display_data",
          "data": {
            "text/plain": [
              "<IPython.core.display.HTML object>"
            ],
            "text/html": [
              "<table border=\"1\" class=\"dataframe\">\n",
              "    <thead>\n",
              "        <tr>\n",
              "            <th>Year</th> <th>India</th>\n",
              "        </tr>\n",
              "    </thead>\n",
              "    <tbody>\n",
              "        <tr>\n",
              "            <td>2023</td> <td>5.65 %</td>\n",
              "        </tr>\n",
              "        <tr>\n",
              "            <td>2022</td> <td>6.70 %</td>\n",
              "        </tr>\n",
              "        <tr>\n",
              "            <td>2021</td> <td>5.13 %</td>\n",
              "        </tr>\n",
              "    </tbody>\n",
              "</table>\n",
              "<p>... (61 rows omitted)</p>"
            ]
          },
          "metadata": {}
        }
      ]
    },
    {
      "cell_type": "code",
      "source": [
        "inflation_rate=inflation_code.apply(get_percent,'India')\n",
        "inflation_rate=inflation_rate.tolist()\n",
        "year=inflation_code.apply(get_year_number,'Year')\n",
        "year=year.tolist()"
      ],
      "metadata": {
        "id": "w4Uw18N1o8X7"
      },
      "execution_count": null,
      "outputs": []
    },
    {
      "cell_type": "markdown",
      "source": [
        "####Relabled the table, and take only inflation rate after 2007 for analysis"
      ],
      "metadata": {
        "id": "s1dnmltb_tV2"
      }
    },
    {
      "cell_type": "code",
      "source": [
        "inflation_ind=inflation_code.with_column('India',inflation_rate)\n",
        "inflation_ind=inflation_ind.relabeled('India','Inflation Rate')\n",
        "inflation_ind=inflation_ind.with_column('Year',year)\n",
        "inflation_ind=inflation_ind.where('Year',are.above_or_equal_to(2007))\n",
        "inflation_ind.show(3)"
      ],
      "metadata": {
        "id": "yb8QGvgnpTRe",
        "colab": {
          "base_uri": "https://localhost:8080/",
          "height": 173
        },
        "outputId": "15a288b4-926e-461f-81fe-c97a95faf59c"
      },
      "execution_count": null,
      "outputs": [
        {
          "output_type": "display_data",
          "data": {
            "text/plain": [
              "<IPython.core.display.HTML object>"
            ],
            "text/html": [
              "<table border=\"1\" class=\"dataframe\">\n",
              "    <thead>\n",
              "        <tr>\n",
              "            <th>Year</th> <th>Inflation Rate</th>\n",
              "        </tr>\n",
              "    </thead>\n",
              "    <tbody>\n",
              "        <tr>\n",
              "            <td>2023</td> <td>5.65          </td>\n",
              "        </tr>\n",
              "        <tr>\n",
              "            <td>2022</td> <td>6.7           </td>\n",
              "        </tr>\n",
              "        <tr>\n",
              "            <td>2021</td> <td>5.13          </td>\n",
              "        </tr>\n",
              "    </tbody>\n",
              "</table>\n",
              "<p>... (14 rows omitted)</p>"
            ]
          },
          "metadata": {}
        }
      ]
    },
    {
      "cell_type": "code",
      "source": [
        "regression_slope_ind = slope(inflation_ind, 'Year','Inflation Rate')\n",
        "regression_intercept_ind = intercept(inflation_ind, 'Year','Inflation Rate')\n",
        "regression_slope_ind, regression_intercept_ind"
      ],
      "metadata": {
        "id": "LK6Edxs0sap9",
        "colab": {
          "base_uri": "https://localhost:8080/"
        },
        "outputId": "29d65bf3-a546-44d2-ab45-ae44b67f5f01"
      },
      "execution_count": null,
      "outputs": [
        {
          "output_type": "execute_result",
          "data": {
            "text/plain": [
              "(-0.32468137254901963, 661.20061274509817)"
            ]
          },
          "metadata": {},
          "execution_count": 90
        }
      ]
    },
    {
      "cell_type": "code",
      "source": [
        "predicted_ind=fitted_values(inflation_ind,'Year','Inflation Rate')\n",
        "predicted_ind"
      ],
      "metadata": {
        "id": "j9MEuFwuwEwc",
        "colab": {
          "base_uri": "https://localhost:8080/"
        },
        "outputId": "253ff11a-0cc6-40b9-b95f-118eff2a3053"
      },
      "execution_count": null,
      "outputs": [
        {
          "output_type": "execute_result",
          "data": {
            "text/plain": [
              "array([ 4.37019608,  4.69487745,  5.01955882,  5.3442402 ,  5.66892157,\n",
              "        5.99360294,  6.31828431,  6.64296569,  6.96764706,  7.29232843,\n",
              "        7.6170098 ,  7.94169118,  8.26637255,  8.59105392,  8.91573529,\n",
              "        9.24041667,  9.56509804])"
            ]
          },
          "metadata": {},
          "execution_count": 91
        }
      ]
    },
    {
      "cell_type": "code",
      "source": [
        "inflation_ind.show(3)"
      ],
      "metadata": {
        "id": "sIYX1678wl6Q",
        "colab": {
          "base_uri": "https://localhost:8080/",
          "height": 173
        },
        "outputId": "ddf61b93-2dd4-40a2-e8a2-bf6fcbc26c83"
      },
      "execution_count": null,
      "outputs": [
        {
          "output_type": "display_data",
          "data": {
            "text/plain": [
              "<IPython.core.display.HTML object>"
            ],
            "text/html": [
              "<table border=\"1\" class=\"dataframe\">\n",
              "    <thead>\n",
              "        <tr>\n",
              "            <th>Year</th> <th>Inflation Rate</th>\n",
              "        </tr>\n",
              "    </thead>\n",
              "    <tbody>\n",
              "        <tr>\n",
              "            <td>2023</td> <td>5.65          </td>\n",
              "        </tr>\n",
              "        <tr>\n",
              "            <td>2022</td> <td>6.7           </td>\n",
              "        </tr>\n",
              "        <tr>\n",
              "            <td>2021</td> <td>5.13          </td>\n",
              "        </tr>\n",
              "    </tbody>\n",
              "</table>\n",
              "<p>... (14 rows omitted)</p>"
            ]
          },
          "metadata": {}
        }
      ]
    },
    {
      "cell_type": "markdown",
      "source": [
        "####Linear Regression graph of Inflation rate in India"
      ],
      "metadata": {
        "id": "7cq-eZ7jAFMZ"
      }
    },
    {
      "cell_type": "code",
      "source": [
        "inflation_ind_fitted=inflation_ind.with_column('Linear Prediction',predicted_ind)\n",
        "inflation_ind_fitted.scatter('Year')"
      ],
      "metadata": {
        "id": "DITBcNUgvfuQ",
        "colab": {
          "base_uri": "https://localhost:8080/",
          "height": 494
        },
        "outputId": "42a922df-d07d-45f8-e44c-2ba97affad0d"
      },
      "execution_count": null,
      "outputs": [
        {
          "output_type": "display_data",
          "data": {
            "text/plain": [
              "<Figure size 500x500 with 1 Axes>"
            ],
            "image/png": "[encoded data removed]"
          },
          "metadata": {}
        }
      ]
    },
    {
      "cell_type": "markdown",
      "source": [
        "####Calculating predicted inflation rate of year 2030 in India"
      ],
      "metadata": {
        "id": "nQCRRysvAMpW"
      }
    },
    {
      "cell_type": "code",
      "source": [
        "predicted_2030_ind=fit_line(2030,regression_slope_ind,regression_intercept_ind)\n",
        "predicted_2030_ind\n"
      ],
      "metadata": {
        "id": "kIKYJY-psr1u",
        "colab": {
          "base_uri": "https://localhost:8080/"
        },
        "outputId": "cecf0437-eec5-436c-cfba-1ed6483d7405"
      },
      "execution_count": null,
      "outputs": [
        {
          "output_type": "execute_result",
          "data": {
            "text/plain": [
              "2.0974264705882888"
            ]
          },
          "metadata": {},
          "execution_count": 94
        }
      ]
    },
    {
      "cell_type": "markdown",
      "source": [
        "According to our analysis and using the line of best fitting to check the current inflation and future inflation .<br>\n",
        "\n",
        "According to the analysis, The rate of inflation in **US** should be **~4.9%** annually and **~2.1%** annually in **india** with decreasing trend.<br>\n",
        "So according to our hypothesis iphones should be more expensive in US and cheaper in India. <br>\n",
        "Now we turn to Exchange rates and PPP foctor to check if the currency is underperforming or overperforming .<br>\n",
        "Then we will see how much of a difference is there between the PPP and deviation of PPP from actual exchange rate"
      ],
      "metadata": {
        "id": "ryqonZm7ZvaC"
      }
    },
    {
      "cell_type": "markdown",
      "source": [
        "---\n",
        "#Actual Factor"
      ],
      "metadata": {
        "id": "zZ2hsTej1xl4"
      }
    },
    {
      "cell_type": "markdown",
      "source": [
        "For the ease of reference, lets just consider the base iphone model, which is iphone 16 and compare\n",
        "For the same iphone 16, what is the price diffenece between Canada and the other countries"
      ],
      "metadata": {
        "id": "YNcuX-VPe-s0"
      }
    },
    {
      "cell_type": "code",
      "source": [
        "iphone_16_CAD=Converted_table.select(\"Country\",\"iPhone 16\")"
      ],
      "metadata": {
        "id": "wd_nlzxwd-wY"
      },
      "execution_count": null,
      "outputs": []
    },
    {
      "cell_type": "code",
      "source": [
        "canadian_price=iphone_16_CAD.where(\"Country\",are.equal_to(\"Canada\")).column(\"iPhone 16\")\n",
        "\n",
        "price_diff_table=iphone_16_CAD.with_column(\"Difference\",iphone_16_CAD.column(\"iPhone 16\")-canadian_price)\n",
        "price_diff_table"
      ],
      "metadata": {
        "id": "HPgFeaejfeg6",
        "colab": {
          "base_uri": "https://localhost:8080/",
          "height": 392
        },
        "outputId": "4308cee9-3be3-4e26-a9f6-d42c4d207268"
      },
      "execution_count": null,
      "outputs": [
        {
          "output_type": "execute_result",
          "data": {
            "text/plain": [
              "Country              | iPhone 16 | Difference\n",
              "Australia            | 1274.83   | 145.831\n",
              "Canada               | 1129      | 0\n",
              "China                | 1156.21   | 27.2109\n",
              "Hong Kong            | 1245.98   | 116.982\n",
              "India                | 1325.52   | 196.518\n",
              "Japan                | 1173.21   | 44.2113\n",
              "Thailand             | 1220.8    | 91.7968\n",
              "UK                   | 1180.73   | 51.73\n",
              "United Arab Emirates | 1300.85   | 171.853\n",
              "United States        | 1122.98   | -6.02038\n",
              "... (1 rows omitted)"
            ],
            "text/html": [
              "<table border=\"1\" class=\"dataframe\">\n",
              "    <thead>\n",
              "        <tr>\n",
              "            <th>Country</th> <th>iPhone 16</th> <th>Difference</th>\n",
              "        </tr>\n",
              "    </thead>\n",
              "    <tbody>\n",
              "        <tr>\n",
              "            <td>Australia           </td> <td>1274.83  </td> <td>145.831   </td>\n",
              "        </tr>\n",
              "        <tr>\n",
              "            <td>Canada              </td> <td>1129     </td> <td>0         </td>\n",
              "        </tr>\n",
              "        <tr>\n",
              "            <td>China               </td> <td>1156.21  </td> <td>27.2109   </td>\n",
              "        </tr>\n",
              "        <tr>\n",
              "            <td>Hong Kong           </td> <td>1245.98  </td> <td>116.982   </td>\n",
              "        </tr>\n",
              "        <tr>\n",
              "            <td>India               </td> <td>1325.52  </td> <td>196.518   </td>\n",
              "        </tr>\n",
              "        <tr>\n",
              "            <td>Japan               </td> <td>1173.21  </td> <td>44.2113   </td>\n",
              "        </tr>\n",
              "        <tr>\n",
              "            <td>Thailand            </td> <td>1220.8   </td> <td>91.7968   </td>\n",
              "        </tr>\n",
              "        <tr>\n",
              "            <td>UK                  </td> <td>1180.73  </td> <td>51.73     </td>\n",
              "        </tr>\n",
              "        <tr>\n",
              "            <td>United Arab Emirates</td> <td>1300.85  </td> <td>171.853   </td>\n",
              "        </tr>\n",
              "        <tr>\n",
              "            <td>United States       </td> <td>1122.98  </td> <td>-6.02038  </td>\n",
              "        </tr>\n",
              "    </tbody>\n",
              "</table>\n",
              "<p>... (1 rows omitted)</p>"
            ]
          },
          "metadata": {},
          "execution_count": 96
        }
      ]
    },
    {
      "cell_type": "markdown",
      "source": [
        "Now we calculated the markup percentage in each countries"
      ],
      "metadata": {
        "id": "dcCjCN9XBtZP"
      }
    },
    {
      "cell_type": "code",
      "source": [
        "markup_price=price_diff_table.with_column(\"Markup (%)\",(price_diff_table.column(\"Difference\")/canadian_price)*100)\n",
        "markup_price=markup_price.join(\"Country\",joined_forex,\"Locations\").drop(\"Code\",\"Currency\")\n",
        "markup_price"
      ],
      "metadata": {
        "id": "sq0JAwiagnU9",
        "colab": {
          "base_uri": "https://localhost:8080/",
          "height": 392
        },
        "outputId": "742b0629-7328-47c3-a64a-320ff6927994"
      },
      "execution_count": null,
      "outputs": [
        {
          "output_type": "execute_result",
          "data": {
            "text/plain": [
              "Country              | iPhone 16 | Difference | Markup (%) | Values\n",
              "Australia            | 1274.83   | 145.831    | 12.9169    | 1.0974\n",
              "Canada               | 1129      | 0          | 0          | 1\n",
              "China                | 1156.21   | 27.2109    | 2.41017    | 5.1885\n",
              "Hong Kong            | 1245.98   | 116.982    | 10.3615    | 5.537\n",
              "India                | 1325.52   | 196.518    | 17.4064    | 60.2783\n",
              "Japan                | 1173.21   | 44.2113    | 3.91597    | 106.375\n",
              "Thailand             | 1220.8    | 91.7968    | 8.13081    | 24.4922\n",
              "UK                   | 1180.73   | 51.73      | 4.58193    | 0.6767\n",
              "United Arab Emirates | 1300.85   | 171.853    | 15.2217    | 2.6129\n",
              "United States        | 1122.98   | -6.02038   | -0.533249  | 0.7115\n",
              "... (1 rows omitted)"
            ],
            "text/html": [
              "<table border=\"1\" class=\"dataframe\">\n",
              "    <thead>\n",
              "        <tr>\n",
              "            <th>Country</th> <th>iPhone 16</th> <th>Difference</th> <th>Markup (%)</th> <th>Values</th>\n",
              "        </tr>\n",
              "    </thead>\n",
              "    <tbody>\n",
              "        <tr>\n",
              "            <td>Australia           </td> <td>1274.83  </td> <td>145.831   </td> <td>12.9169   </td> <td>1.0974 </td>\n",
              "        </tr>\n",
              "        <tr>\n",
              "            <td>Canada              </td> <td>1129     </td> <td>0         </td> <td>0         </td> <td>1      </td>\n",
              "        </tr>\n",
              "        <tr>\n",
              "            <td>China               </td> <td>1156.21  </td> <td>27.2109   </td> <td>2.41017   </td> <td>5.1885 </td>\n",
              "        </tr>\n",
              "        <tr>\n",
              "            <td>Hong Kong           </td> <td>1245.98  </td> <td>116.982   </td> <td>10.3615   </td> <td>5.537  </td>\n",
              "        </tr>\n",
              "        <tr>\n",
              "            <td>India               </td> <td>1325.52  </td> <td>196.518   </td> <td>17.4064   </td> <td>60.2783</td>\n",
              "        </tr>\n",
              "        <tr>\n",
              "            <td>Japan               </td> <td>1173.21  </td> <td>44.2113   </td> <td>3.91597   </td> <td>106.375</td>\n",
              "        </tr>\n",
              "        <tr>\n",
              "            <td>Thailand            </td> <td>1220.8   </td> <td>91.7968   </td> <td>8.13081   </td> <td>24.4922</td>\n",
              "        </tr>\n",
              "        <tr>\n",
              "            <td>UK                  </td> <td>1180.73  </td> <td>51.73     </td> <td>4.58193   </td> <td>0.6767 </td>\n",
              "        </tr>\n",
              "        <tr>\n",
              "            <td>United Arab Emirates</td> <td>1300.85  </td> <td>171.853   </td> <td>15.2217   </td> <td>2.6129 </td>\n",
              "        </tr>\n",
              "        <tr>\n",
              "            <td>United States       </td> <td>1122.98  </td> <td>-6.02038  </td> <td>-0.533249 </td> <td>0.7115 </td>\n",
              "        </tr>\n",
              "    </tbody>\n",
              "</table>\n",
              "<p>... (1 rows omitted)</p>"
            ]
          },
          "metadata": {},
          "execution_count": 97
        }
      ]
    },
    {
      "cell_type": "markdown",
      "source": [
        "We can see from the table that iphones have been marked up by approximately ***~18%*** where as in Canada the price is just up by ***~0.87%***<br>"
      ],
      "metadata": {
        "id": "pTVGGZikh5oQ"
      }
    },
    {
      "cell_type": "markdown",
      "source": [
        "#### We will now calulate PPP (Purchase Power Parity) which compares the price of item to ass whether the currency is overvalued or undervalued relative to one another"
      ],
      "metadata": {
        "id": "WHkWPGPdjNEf"
      }
    },
    {
      "cell_type": "markdown",
      "source": [
        "We calculate the PPP of all countries with respect to CAD"
      ],
      "metadata": {
        "id": "JC6EoxuSsvUw"
      }
    },
    {
      "cell_type": "code",
      "source": [
        "local_curr=markup_price.column(\"iPhone 16\")*markup_price.column(\"Values\")\n",
        "PPP_table=markup_price.with_column(\"PPP\",local_curr/canadian_price)\n",
        "PPP_table"
      ],
      "metadata": {
        "id": "x2DdnpH3suDO",
        "colab": {
          "base_uri": "https://localhost:8080/",
          "height": 392
        },
        "outputId": "e541230f-ffc8-47b2-8d5d-f57360f8a4ef"
      },
      "execution_count": null,
      "outputs": [
        {
          "output_type": "execute_result",
          "data": {
            "text/plain": [
              "Country              | iPhone 16 | Difference | Markup (%) | Values  | PPP\n",
              "Australia            | 1274.83   | 145.831    | 12.9169    | 1.0974  | 1.23915\n",
              "Canada               | 1129      | 0          | 0          | 1       | 1\n",
              "China                | 1156.21   | 27.2109    | 2.41017    | 5.1885  | 5.31355\n",
              "Hong Kong            | 1245.98   | 116.982    | 10.3615    | 5.537   | 6.11072\n",
              "India                | 1325.52   | 196.518    | 17.4064    | 60.2783 | 70.7706\n",
              "Japan                | 1173.21   | 44.2113    | 3.91597    | 106.375 | 110.54\n",
              "Thailand             | 1220.8    | 91.7968    | 8.13081    | 24.4922 | 26.4836\n",
              "UK                   | 1180.73   | 51.73      | 4.58193    | 0.6767  | 0.707706\n",
              "United Arab Emirates | 1300.85   | 171.853    | 15.2217    | 2.6129  | 3.01063\n",
              "United States        | 1122.98   | -6.02038   | -0.533249  | 0.7115  | 0.707706\n",
              "... (1 rows omitted)"
            ],
            "text/html": [
              "<table border=\"1\" class=\"dataframe\">\n",
              "    <thead>\n",
              "        <tr>\n",
              "            <th>Country</th> <th>iPhone 16</th> <th>Difference</th> <th>Markup (%)</th> <th>Values</th> <th>PPP</th>\n",
              "        </tr>\n",
              "    </thead>\n",
              "    <tbody>\n",
              "        <tr>\n",
              "            <td>Australia           </td> <td>1274.83  </td> <td>145.831   </td> <td>12.9169   </td> <td>1.0974 </td> <td>1.23915 </td>\n",
              "        </tr>\n",
              "        <tr>\n",
              "            <td>Canada              </td> <td>1129     </td> <td>0         </td> <td>0         </td> <td>1      </td> <td>1       </td>\n",
              "        </tr>\n",
              "        <tr>\n",
              "            <td>China               </td> <td>1156.21  </td> <td>27.2109   </td> <td>2.41017   </td> <td>5.1885 </td> <td>5.31355 </td>\n",
              "        </tr>\n",
              "        <tr>\n",
              "            <td>Hong Kong           </td> <td>1245.98  </td> <td>116.982   </td> <td>10.3615   </td> <td>5.537  </td> <td>6.11072 </td>\n",
              "        </tr>\n",
              "        <tr>\n",
              "            <td>India               </td> <td>1325.52  </td> <td>196.518   </td> <td>17.4064   </td> <td>60.2783</td> <td>70.7706 </td>\n",
              "        </tr>\n",
              "        <tr>\n",
              "            <td>Japan               </td> <td>1173.21  </td> <td>44.2113   </td> <td>3.91597   </td> <td>106.375</td> <td>110.54  </td>\n",
              "        </tr>\n",
              "        <tr>\n",
              "            <td>Thailand            </td> <td>1220.8   </td> <td>91.7968   </td> <td>8.13081   </td> <td>24.4922</td> <td>26.4836 </td>\n",
              "        </tr>\n",
              "        <tr>\n",
              "            <td>UK                  </td> <td>1180.73  </td> <td>51.73     </td> <td>4.58193   </td> <td>0.6767 </td> <td>0.707706</td>\n",
              "        </tr>\n",
              "        <tr>\n",
              "            <td>United Arab Emirates</td> <td>1300.85  </td> <td>171.853   </td> <td>15.2217   </td> <td>2.6129 </td> <td>3.01063 </td>\n",
              "        </tr>\n",
              "        <tr>\n",
              "            <td>United States       </td> <td>1122.98  </td> <td>-6.02038  </td> <td>-0.533249 </td> <td>0.7115 </td> <td>0.707706</td>\n",
              "        </tr>\n",
              "    </tbody>\n",
              "</table>\n",
              "<p>... (1 rows omitted)</p>"
            ]
          },
          "metadata": {},
          "execution_count": 98
        }
      ]
    },
    {
      "cell_type": "code",
      "source": [
        "std_ex=standard_units(PPP_table.column(\"Values\"))\n",
        "std_PPP=standard_units(PPP_table.column(\"PPP\"))\n",
        "\n",
        "PPP_table=PPP_table.with_columns(\"std_ex\",std_ex,\"std_PPP\",std_PPP)\n",
        "PPP_table"
      ],
      "metadata": {
        "id": "9DfoMPkOyVgi",
        "colab": {
          "base_uri": "https://localhost:8080/",
          "height": 392
        },
        "outputId": "5870fe22-37e8-4b2e-a2e8-9af1993cd1fd"
      },
      "execution_count": null,
      "outputs": [
        {
          "output_type": "execute_result",
          "data": {
            "text/plain": [
              "Country              | iPhone 16 | Difference | Markup (%) | Values  | PPP      | std_ex    | std_PPP\n",
              "Australia            | 1274.83   | 145.831    | 12.9169    | 1.0974  | 1.23915  | -0.320017 | -0.319872\n",
              "Canada               | 1129      | 0          | 0          | 1       | 1        | -0.320035 | -0.319913\n",
              "China                | 1156.21   | 27.2109    | 2.41017    | 5.1885  | 5.31355  | -0.319228 | -0.319175\n",
              "Hong Kong            | 1245.98   | 116.982    | 10.3615    | 5.537   | 6.11072  | -0.319161 | -0.319039\n",
              "India                | 1325.52   | 196.518    | 17.4064    | 60.2783 | 70.7706  | -0.308616 | -0.307986\n",
              "Japan                | 1173.21   | 44.2113    | 3.91597    | 106.375 | 110.54   | -0.299736 | -0.301188\n",
              "Thailand             | 1220.8    | 91.7968    | 8.13081    | 24.4922 | 26.4836  | -0.31551  | -0.315556\n",
              "UK                   | 1180.73   | 51.73      | 4.58193    | 0.6767  | 0.707706 | -0.320098 | -0.319963\n",
              "United Arab Emirates | 1300.85   | 171.853    | 15.2217    | 2.6129  | 3.01063  | -0.319725 | -0.319569\n",
              "United States        | 1122.98   | -6.02038   | -0.533249  | 0.7115  | 0.707706 | -0.320091 | -0.319963\n",
              "... (1 rows omitted)"
            ],
            "text/html": [
              "<table border=\"1\" class=\"dataframe\">\n",
              "    <thead>\n",
              "        <tr>\n",
              "            <th>Country</th> <th>iPhone 16</th> <th>Difference</th> <th>Markup (%)</th> <th>Values</th> <th>PPP</th> <th>std_ex</th> <th>std_PPP</th>\n",
              "        </tr>\n",
              "    </thead>\n",
              "    <tbody>\n",
              "        <tr>\n",
              "            <td>Australia           </td> <td>1274.83  </td> <td>145.831   </td> <td>12.9169   </td> <td>1.0974 </td> <td>1.23915 </td> <td>-0.320017</td> <td>-0.319872</td>\n",
              "        </tr>\n",
              "        <tr>\n",
              "            <td>Canada              </td> <td>1129     </td> <td>0         </td> <td>0         </td> <td>1      </td> <td>1       </td> <td>-0.320035</td> <td>-0.319913</td>\n",
              "        </tr>\n",
              "        <tr>\n",
              "            <td>China               </td> <td>1156.21  </td> <td>27.2109   </td> <td>2.41017   </td> <td>5.1885 </td> <td>5.31355 </td> <td>-0.319228</td> <td>-0.319175</td>\n",
              "        </tr>\n",
              "        <tr>\n",
              "            <td>Hong Kong           </td> <td>1245.98  </td> <td>116.982   </td> <td>10.3615   </td> <td>5.537  </td> <td>6.11072 </td> <td>-0.319161</td> <td>-0.319039</td>\n",
              "        </tr>\n",
              "        <tr>\n",
              "            <td>India               </td> <td>1325.52  </td> <td>196.518   </td> <td>17.4064   </td> <td>60.2783</td> <td>70.7706 </td> <td>-0.308616</td> <td>-0.307986</td>\n",
              "        </tr>\n",
              "        <tr>\n",
              "            <td>Japan               </td> <td>1173.21  </td> <td>44.2113   </td> <td>3.91597   </td> <td>106.375</td> <td>110.54  </td> <td>-0.299736</td> <td>-0.301188</td>\n",
              "        </tr>\n",
              "        <tr>\n",
              "            <td>Thailand            </td> <td>1220.8   </td> <td>91.7968   </td> <td>8.13081   </td> <td>24.4922</td> <td>26.4836 </td> <td>-0.31551 </td> <td>-0.315556</td>\n",
              "        </tr>\n",
              "        <tr>\n",
              "            <td>UK                  </td> <td>1180.73  </td> <td>51.73     </td> <td>4.58193   </td> <td>0.6767 </td> <td>0.707706</td> <td>-0.320098</td> <td>-0.319963</td>\n",
              "        </tr>\n",
              "        <tr>\n",
              "            <td>United Arab Emirates</td> <td>1300.85  </td> <td>171.853   </td> <td>15.2217   </td> <td>2.6129 </td> <td>3.01063 </td> <td>-0.319725</td> <td>-0.319569</td>\n",
              "        </tr>\n",
              "        <tr>\n",
              "            <td>United States       </td> <td>1122.98  </td> <td>-6.02038  </td> <td>-0.533249 </td> <td>0.7115 </td> <td>0.707706</td> <td>-0.320091</td> <td>-0.319963</td>\n",
              "        </tr>\n",
              "    </tbody>\n",
              "</table>\n",
              "<p>... (1 rows omitted)</p>"
            ]
          },
          "metadata": {},
          "execution_count": 99
        }
      ]
    },
    {
      "cell_type": "code",
      "source": [
        "countries_bar=PPP_table.column(\"Country\")\n",
        "deviation_percentage=PPP_table.column(\"Markup (%)\")\n",
        "\n",
        "fig, ax = plt.subplots(figsize=(10, 6))\n",
        "bars = ax.bar(countries_bar, deviation_percentage, color=\"skyblue\", alpha=0.8)\n",
        "ax.set_xlabel(\"Country\", fontsize=12)\n",
        "ax.set_ylabel(\"Deviation (%)\", fontsize=12)\n",
        "ax.set_title(\"Deviation of PPP from Exchange Rates\", fontsize=14)\n",
        "for bar in bars:\n",
        "    height = bar.get_height()\n",
        "    ax.annotate(f'{height:.1f}%',\n",
        "                xy=(bar.get_x() + bar.get_width() / 2, height),\n",
        "                xytext=(0, 3),\n",
        "                textcoords=\"offset points\",\n",
        "                ha='center', va='bottom', fontsize=10)\n",
        "plt.xticks(rotation=45)\n",
        "plt.tight_layout()\n",
        "plt.show()"
      ],
      "metadata": {
        "id": "g-nB9gEI0BBZ",
        "colab": {
          "base_uri": "https://localhost:8080/",
          "height": 510
        },
        "outputId": "9319ee7d-ff65-4af2-d109-7c2787f3e8e8"
      },
      "execution_count": null,
      "outputs": [
        {
          "output_type": "display_data",
          "data": {
            "text/plain": [
              "<Figure size 1000x600 with 1 Axes>"
            ],
            "image/png": "[encoded data removed]"
          },
          "metadata": {}
        }
      ]
    },
    {
      "cell_type": "markdown",
      "source": [
        "As observed from the table above, the Purchasing Power Parity (PPP) value calculated from the conversions of INR is approximately \\(70\\), compared to the actual exchange rate of around \\(60\\) INR.\n",
        "\n",
        "Since the PPP rate is greater than the actual exchange rate, this indicates that the currency is significantly undervalued, by approximately \\(18\\%\\) which tells us that there are other factors involved for such a difference in prices."
      ],
      "metadata": {
        "id": "0hd79GKzu5e_"
      }
    },
    {
      "cell_type": "markdown",
      "source": [
        "#Conclusion"
      ],
      "metadata": {
        "id": "BrJA6NNgDfz5"
      }
    },
    {
      "cell_type": "markdown",
      "source": [
        "Based on further investigation, we can assume there are other factors affecting iphone price in different countries.\n",
        "\n",
        "For example, just take price in India as reference, the main factor leads to pricer is the high import taxes.\"Consequently, Apple is subject to customs duties, which have a direct impact on the final prices. Additionally, the Goods and Services Tax (GST) of **18% **further contributes to the cost, resulting in a cumulative increase of **40% **in the final price.\"\n",
        "\n",
        "Attribution notice\n",
        "\"https://economictimes.indiatimes.com/news/how-to/why-iphones-are-still-pricier-in-india-despite-made-in-india-production/articleshow/103682053.cms?from=mdr\"\n",
        " By THE ECONOMIC TIMES NEWS\n",
        "\n",
        "Despite the fact that since 2016, Apple has been manufaturing products in India, iphones are not entirely made in India but only assembled in India. Because of the supply chain, all the components required for iphone production are not manufactured in the same country, which potentially lead to the pricy cost.\n",
        "\n",
        "In addtion, older-generation models drive the majority of sales for Apple in India, as the \"Pro\" models help it improve the affordability of base models and old_generation models. These iphones will become a better buy in India then other countries.\n",
        "\n",
        "Attribution notice\n",
        "\"https://timesofindia.indiatimes.com/gadgets-news/why-made-in-india-iphones-do-not-lead-to-a-price-cut/articleshow/103676724.cms\"\n",
        " By THE TIMES OF INDIA\n",
        "\n",
        "In conclusion, we can suggest three factors are affecting iphone's price in different countries. 1 import duties, 2 cost, 3 the sales of older-generation models differences\n"
      ],
      "metadata": {
        "id": "Z671yeIwFseK"
      }
    }
  ]
}